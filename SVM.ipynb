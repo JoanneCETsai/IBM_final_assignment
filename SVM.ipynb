{
 "cells": [
  {
   "cell_type": "markdown",
   "metadata": {},
   "source": [
    "# SVM "
   ]
  },
  {
   "cell_type": "markdown",
   "metadata": {},
   "source": [
    "## 1. Data input"
   ]
  },
  {
   "cell_type": "code",
   "execution_count": 1,
   "metadata": {},
   "outputs": [
    {
     "data": {
      "text/html": [
       "<div>\n",
       "<style scoped>\n",
       "    .dataframe tbody tr th:only-of-type {\n",
       "        vertical-align: middle;\n",
       "    }\n",
       "\n",
       "    .dataframe tbody tr th {\n",
       "        vertical-align: top;\n",
       "    }\n",
       "\n",
       "    .dataframe thead th {\n",
       "        text-align: right;\n",
       "    }\n",
       "</style>\n",
       "<table border=\"1\" class=\"dataframe\">\n",
       "  <thead>\n",
       "    <tr style=\"text-align: right;\">\n",
       "      <th></th>\n",
       "      <th>id</th>\n",
       "      <th>cuisine</th>\n",
       "      <th>ingredients</th>\n",
       "    </tr>\n",
       "  </thead>\n",
       "  <tbody>\n",
       "    <tr>\n",
       "      <th>0</th>\n",
       "      <td>22675</td>\n",
       "      <td>italian</td>\n",
       "      <td>[1% low-fat cottage cheese, low-fat marinara s...</td>\n",
       "    </tr>\n",
       "    <tr>\n",
       "      <th>1</th>\n",
       "      <td>32288</td>\n",
       "      <td>southern_us</td>\n",
       "      <td>[brown sugar, salt, eggs, butter, chopped peca...</td>\n",
       "    </tr>\n",
       "    <tr>\n",
       "      <th>2</th>\n",
       "      <td>44406</td>\n",
       "      <td>thai</td>\n",
       "      <td>[red chili peppers, bell pepper, garlic, fish ...</td>\n",
       "    </tr>\n",
       "    <tr>\n",
       "      <th>3</th>\n",
       "      <td>29355</td>\n",
       "      <td>moroccan</td>\n",
       "      <td>[water, green tea leaves, tangerine, fresh min...</td>\n",
       "    </tr>\n",
       "    <tr>\n",
       "      <th>4</th>\n",
       "      <td>39350</td>\n",
       "      <td>chinese</td>\n",
       "      <td>[vegetable oil, chile sauce, tomato paste, gar...</td>\n",
       "    </tr>\n",
       "    <tr>\n",
       "      <th>...</th>\n",
       "      <td>...</td>\n",
       "      <td>...</td>\n",
       "      <td>...</td>\n",
       "    </tr>\n",
       "    <tr>\n",
       "      <th>29769</th>\n",
       "      <td>2278</td>\n",
       "      <td>japanese</td>\n",
       "      <td>[soy sauce, sesame oil, garlic, sake, flour, g...</td>\n",
       "    </tr>\n",
       "    <tr>\n",
       "      <th>29770</th>\n",
       "      <td>474</td>\n",
       "      <td>vietnamese</td>\n",
       "      <td>[mint, garlic sauce, chinese chives, rice nood...</td>\n",
       "    </tr>\n",
       "    <tr>\n",
       "      <th>29771</th>\n",
       "      <td>44229</td>\n",
       "      <td>indian</td>\n",
       "      <td>[potatoes, vegetable broth, oil, cashew nuts, ...</td>\n",
       "    </tr>\n",
       "    <tr>\n",
       "      <th>29772</th>\n",
       "      <td>20311</td>\n",
       "      <td>southern_us</td>\n",
       "      <td>[butter, powdered sugar, cream cheese, soften,...</td>\n",
       "    </tr>\n",
       "    <tr>\n",
       "      <th>29773</th>\n",
       "      <td>32823</td>\n",
       "      <td>chinese</td>\n",
       "      <td>[savoy cabbage, dumpling wrappers, ginger, soy...</td>\n",
       "    </tr>\n",
       "  </tbody>\n",
       "</table>\n",
       "<p>29774 rows × 3 columns</p>\n",
       "</div>"
      ],
      "text/plain": [
       "          id      cuisine                                        ingredients\n",
       "0      22675      italian  [1% low-fat cottage cheese, low-fat marinara s...\n",
       "1      32288  southern_us  [brown sugar, salt, eggs, butter, chopped peca...\n",
       "2      44406         thai  [red chili peppers, bell pepper, garlic, fish ...\n",
       "3      29355     moroccan  [water, green tea leaves, tangerine, fresh min...\n",
       "4      39350      chinese  [vegetable oil, chile sauce, tomato paste, gar...\n",
       "...      ...          ...                                                ...\n",
       "29769   2278     japanese  [soy sauce, sesame oil, garlic, sake, flour, g...\n",
       "29770    474   vietnamese  [mint, garlic sauce, chinese chives, rice nood...\n",
       "29771  44229       indian  [potatoes, vegetable broth, oil, cashew nuts, ...\n",
       "29772  20311  southern_us  [butter, powdered sugar, cream cheese, soften,...\n",
       "29773  32823      chinese  [savoy cabbage, dumpling wrappers, ginger, soy...\n",
       "\n",
       "[29774 rows x 3 columns]"
      ]
     },
     "execution_count": 1,
     "metadata": {},
     "output_type": "execute_result"
    }
   ],
   "source": [
    "import numpy as np\n",
    "import pandas as pd\n",
    "import matplotlib\n",
    "import matplotlib.pyplot as plt\n",
    "import urllib3\n",
    "%matplotlib inline\n",
    "from sklearn.model_selection import train_test_split\n",
    "from sklearn.metrics import confusion_matrix\n",
    "from sklearn.metrics import classification_report\n",
    "from sklearn.metrics import accuracy_score\n",
    "from sklearn.metrics import precision_score\n",
    "from sklearn.metrics import recall_score\n",
    "from sklearn.metrics import mean_absolute_error\n",
    "from sklearn import metrics\n",
    "\n",
    "\n",
    "df=pd.read_json('train.json')\n",
    "df"
   ]
  },
  {
   "cell_type": "code",
   "execution_count": 2,
   "metadata": {},
   "outputs": [
    {
     "data": {
      "text/plain": [
       "<AxesSubplot:>"
      ]
     },
     "execution_count": 2,
     "metadata": {},
     "output_type": "execute_result"
    },
    {
     "data": {
      "image/png": "[encoded data removed]",
      "text/plain": [
       "<Figure size 432x288 with 1 Axes>"
      ]
     },
     "metadata": {},
     "output_type": "display_data"
    }
   ],
   "source": [
    "plt.style.use('ggplot')\n",
    "df['cuisine'].value_counts().plot(kind='bar')"
   ]
  },
  {
   "cell_type": "markdown",
   "metadata": {},
   "source": [
    "## 2. Data preprocessing "
   ]
  },
  {
   "cell_type": "code",
   "execution_count": 3,
   "metadata": {},
   "outputs": [],
   "source": [
    "from collections import Counter"
   ]
  },
  {
   "cell_type": "code",
   "execution_count": 4,
   "metadata": {},
   "outputs": [
    {
     "data": {
      "text/plain": [
       "6231"
      ]
     },
     "execution_count": 4,
     "metadata": {},
     "output_type": "execute_result"
    }
   ],
   "source": [
    "features_all_list=[]\n",
    "for i in df.ingredients:\n",
    "    features_all_list+=i\n",
    "\n",
    "features=list(set(features_all_list))\n",
    "len(features)"
   ]
  },
  {
   "cell_type": "code",
   "execution_count": 5,
   "metadata": {},
   "outputs": [],
   "source": [
    "onehot_ingredients = np.zeros((df.shape[0], len(features)))\n",
    "feature_lookup = sorted(features)\n",
    "\n",
    "for index, row in df.iterrows():\n",
    "    for ingredient in row['ingredients']:\n",
    "        onehot_ingredients[index, feature_lookup.index(ingredient)] = 1\n",
    "y = df.cuisine.values.reshape(-1,1)\n",
    "y=y.ravel()"
   ]
  },
  {
   "cell_type": "code",
   "execution_count": 6,
   "metadata": {},
   "outputs": [
    {
     "data": {
      "text/plain": [
       "(29774, 6231)"
      ]
     },
     "execution_count": 6,
     "metadata": {},
     "output_type": "execute_result"
    }
   ],
   "source": [
    "df_features = pd.DataFrame(onehot_ingredients)\n",
    "d = {}\n",
    "for i in range(len(features)):\n",
    "    d[df_features.columns[i]] = features[i]\n",
    "    \n",
    "df_features = df_features.rename(columns=d)\n",
    "df_features.shape"
   ]
  },
  {
   "cell_type": "code",
   "execution_count": 7,
   "metadata": {},
   "outputs": [],
   "source": [
    "X_train, X_test, y_train, y_test = train_test_split(df_features, y, test_size=0.3, shuffle=True)"
   ]
  },
  {
   "cell_type": "markdown",
   "metadata": {},
   "source": [
    "## 3. Model construction"
   ]
  },
  {
   "cell_type": "markdown",
   "metadata": {},
   "source": [
    "### model_svm_1: kernel用rbf"
   ]
  },
  {
   "cell_type": "code",
   "execution_count": 8,
   "metadata": {},
   "outputs": [],
   "source": [
    "from sklearn.svm import SVC\n",
    "model_svm_1=SVC(kernel='rbf')"
   ]
  },
  {
   "cell_type": "code",
   "execution_count": 9,
   "metadata": {},
   "outputs": [
    {
     "data": {
      "text/plain": [
       "SVC()"
      ]
     },
     "execution_count": 9,
     "metadata": {},
     "output_type": "execute_result"
    }
   ],
   "source": [
    "model_svm_1.fit(X_train,y_train)"
   ]
  },
  {
   "cell_type": "markdown",
   "metadata": {},
   "source": [
    "### Results of model_svm_1 "
   ]
  },
  {
   "cell_type": "code",
   "execution_count": 10,
   "metadata": {},
   "outputs": [
    {
     "name": "stdout",
     "output_type": "stream",
     "text": [
      "    0   1    2    3   4    5    6    7   8     9   10   11   12    13   14  \\\n",
      "0   32   0    1    0   1    2    0    2   0    10   0    0    0    24    1   \n",
      "1    0  33    0    0   0   29    0    3   6    31   0    2    0     3    0   \n",
      "2    0   2  220    1   0   20    0    1   0    36   0    0    0    16    0   \n",
      "3    0   1    0  490   4    3    0    1   0    17   0   14    9     7    0   \n",
      "4    1   0    0   18  94    2    0    2   0    14   0    0    0    10    0   \n",
      "5    0   2    4    1   0  334    1    3   8   177   0    0    0     0    1   \n",
      "6    0   1    1    1   0    3  137    1   0    79   0    0    0     2    4   \n",
      "7    1   0    0    1   2    5    3  636   0    16   2    0    0    30   12   \n",
      "8    0  10    0    2   0   31    0    1  34    27   0    0    0     1    0   \n",
      "9    0   0    4    1   0   82    9    3   2  1612   0    0    0    20    0   \n",
      "10   0   1    2    3   5    4    0   14   0     2  61    0    0    12    0   \n",
      "11   0   0    0   59   2   10    0   23   0    16   0  182    7     4    0   \n",
      "12   0   0    0   38   1    2    0    0   0    10   0    7  103     6    0   \n",
      "13   0   0    2    6   0   13    0    6   0    58   0    0    1  1271    0   \n",
      "14   0   0    0    1   2    3    4   22   0    25   0    0    0    11  113   \n",
      "15   0   1    1    0   1   23    1    0   1    25   0    0    0     3    1   \n",
      "16   0   1   36    3   1   42    1    5   2    76   1    0    1    29    0   \n",
      "17   0   0    4    0   0   20    0    1   0    93   0    0    1    31    2   \n",
      "18   0   0    0   30   5    2    0   12   0     7   0    1    2     5    0   \n",
      "19   0   0    0   31   3    1    0    8   0     9   0    3    0     7    0   \n",
      "\n",
      "    15   16  17   18  19  \n",
      "0    0   11   1    3   0  \n",
      "1    1   69   1    0   0  \n",
      "2    1   53   1    0   0  \n",
      "3    0   22   0   13   5  \n",
      "4    2   18   1    5   4  \n",
      "5    0   56   3    0   0  \n",
      "6    0   10   2    0   0  \n",
      "7    0   14   0    8   1  \n",
      "8    1   53   0    0   0  \n",
      "9    0   43   3    0   0  \n",
      "10   0   34   0    1   0  \n",
      "11   0    8   0    4   3  \n",
      "12   0    2   0    1   2  \n",
      "13   0   48   3    0   0  \n",
      "14   0    9   1    0   0  \n",
      "15  23   28   0    0   0  \n",
      "16   1  779   1    1   0  \n",
      "17   0   21  49    0   0  \n",
      "18   0    9   0  235  12  \n",
      "19   0    5   0   47  86  \n"
     ]
    }
   ],
   "source": [
    "y_true = y_test\n",
    "y_pred = model_svm_1.predict(X_test)\n",
    "con_matrix=pd.DataFrame(confusion_matrix(y_true,y_pred))\n",
    "print(con_matrix)"
   ]
  },
  {
   "cell_type": "code",
   "execution_count": 11,
   "metadata": {},
   "outputs": [
    {
     "name": "stdout",
     "output_type": "stream",
     "text": [
      "              precision    recall  f1-score   support\n",
      "\n",
      "   brazilian       0.94      0.36      0.52        88\n",
      "     british       0.63      0.19      0.29       178\n",
      "cajun_creole       0.80      0.63      0.70       351\n",
      "     chinese       0.71      0.84      0.77       586\n",
      "    filipino       0.78      0.55      0.64       171\n",
      "      french       0.53      0.57      0.55       590\n",
      "       greek       0.88      0.57      0.69       241\n",
      "      indian       0.85      0.87      0.86       731\n",
      "       irish       0.64      0.21      0.32       160\n",
      "     italian       0.69      0.91      0.78      1779\n",
      "    jamaican       0.95      0.44      0.60       139\n",
      "    japanese       0.87      0.57      0.69       318\n",
      "      korean       0.83      0.60      0.70       172\n",
      "     mexican       0.85      0.90      0.88      1408\n",
      "    moroccan       0.84      0.59      0.70       191\n",
      "     russian       0.79      0.21      0.34       108\n",
      " southern_us       0.60      0.79      0.69       980\n",
      "     spanish       0.74      0.22      0.34       222\n",
      "        thai       0.74      0.73      0.74       320\n",
      "  vietnamese       0.76      0.43      0.55       200\n",
      "\n",
      "    accuracy                           0.73      8933\n",
      "   macro avg       0.77      0.56      0.62      8933\n",
      "weighted avg       0.74      0.73      0.72      8933\n",
      "\n"
     ]
    }
   ],
   "source": [
    "print(classification_report(y_test, y_pred))"
   ]
  },
  {
   "cell_type": "markdown",
   "metadata": {},
   "source": [
    "### model_svm_2: kernel用poly (degree用默認的3)"
   ]
  },
  {
   "cell_type": "code",
   "execution_count": 12,
   "metadata": {},
   "outputs": [],
   "source": [
    "model_svm_2=SVC(kernel='poly')"
   ]
  },
  {
   "cell_type": "code",
   "execution_count": 13,
   "metadata": {},
   "outputs": [
    {
     "data": {
      "text/plain": [
       "SVC(kernel='poly')"
      ]
     },
     "execution_count": 13,
     "metadata": {},
     "output_type": "execute_result"
    }
   ],
   "source": [
    "model_svm_2.fit(X_train,y_train)"
   ]
  },
  {
   "cell_type": "markdown",
   "metadata": {},
   "source": [
    "### Results of model_svm_2 "
   ]
  },
  {
   "cell_type": "code",
   "execution_count": 14,
   "metadata": {},
   "outputs": [
    {
     "name": "stdout",
     "output_type": "stream",
     "text": [
      "    0   1    2    3   4    5   6    7   8     9   10  11  12    13  14  15  \\\n",
      "0    6   0    0    0   1    0   0    3   0    54   0   0   0    16   1   0   \n",
      "1    0   9    1    0   0    9   1    0   2   105   0   0   0     0   0   1   \n",
      "2    0   0  132    0   1    8   1    1   0   142   0   0   0    14   0   0   \n",
      "3    0   1    0  379   2    0   0    1   0   173   0   6   4     5   0   1   \n",
      "4    0   0    0   18  56    0   0    1   0    75   0   0   0    11   0   2   \n",
      "5    0   0    3    1   0  125   0    1   0   415   0   0   0     0   0   0   \n",
      "6    0   1    0    0   0    3  56    2   0   171   0   0   0     2   0   0   \n",
      "7    0   2    0    1   4    0   0  467   0   191   0   0   0    48  10   0   \n",
      "8    0   5    0    0   1    5   0    0  14    94   0   0   0     1   0   0   \n",
      "9    0   0    0    1   0   24   3    2   0  1719   0   0   0     8   0   0   \n",
      "10   0   1    1    5   1    1   0    8   0    57  33   0   0    12   0   0   \n",
      "11   0   0    0   40   2    1   0   16   0   154   0  94   4     4   0   0   \n",
      "12   0   0    0   40   3    0   0    0   0    62   0   5  57     3   0   0   \n",
      "13   0   0    1    1   0    7   0    4   0   303   0   0   0  1070   3   0   \n",
      "14   0   0    0    1   0    0   1   15   0    94   1   0   0    10  64   0   \n",
      "15   0   2    0    0   1   11   1    1   0    53   0   0   0     1   0   9   \n",
      "16   0   1   11    1   0   19   0    2   1   421   1   0   0    26   0   0   \n",
      "17   0   0    1    0   0    4   1    1   0   170   0   0   0    24   1   0   \n",
      "18   1   0    0   24   0    0   0    3   0   122   0   0   1    25   0   0   \n",
      "19   0   0    0   32   1    1   0    2   0    74   0   3   0    15   0   0   \n",
      "\n",
      "     16  17   18  19  \n",
      "0     6   0    1   0  \n",
      "1    50   0    0   0  \n",
      "2    51   1    0   0  \n",
      "3     5   0    7   2  \n",
      "4     5   1    2   0  \n",
      "5    44   1    0   0  \n",
      "6     5   1    0   0  \n",
      "7     7   0    1   0  \n",
      "8    40   0    0   0  \n",
      "9    22   0    0   0  \n",
      "10   20   0    0   0  \n",
      "11    2   0    1   0  \n",
      "12    2   0    0   0  \n",
      "13   18   1    0   0  \n",
      "14    5   0    0   0  \n",
      "15   29   0    0   0  \n",
      "16  497   0    0   0  \n",
      "17    5  15    0   0  \n",
      "18    3   0  139   2  \n",
      "19    3   0   29  40  \n"
     ]
    }
   ],
   "source": [
    "y_true = y_test\n",
    "y_pred = model_svm_2.predict(X_test)\n",
    "con_matrix=pd.DataFrame(confusion_matrix(y_true,y_pred))\n",
    "print(con_matrix)"
   ]
  },
  {
   "cell_type": "code",
   "execution_count": 15,
   "metadata": {},
   "outputs": [
    {
     "name": "stdout",
     "output_type": "stream",
     "text": [
      "              precision    recall  f1-score   support\n",
      "\n",
      "   brazilian       0.86      0.07      0.13        88\n",
      "     british       0.41      0.05      0.09       178\n",
      "cajun_creole       0.88      0.38      0.53       351\n",
      "     chinese       0.70      0.65      0.67       586\n",
      "    filipino       0.77      0.33      0.46       171\n",
      "      french       0.57      0.21      0.31       590\n",
      "       greek       0.88      0.23      0.37       241\n",
      "      indian       0.88      0.64      0.74       731\n",
      "       irish       0.82      0.09      0.16       160\n",
      "     italian       0.37      0.97      0.53      1779\n",
      "    jamaican       0.94      0.24      0.38       139\n",
      "    japanese       0.87      0.30      0.44       318\n",
      "      korean       0.86      0.33      0.48       172\n",
      "     mexican       0.83      0.76      0.79      1408\n",
      "    moroccan       0.81      0.34      0.47       191\n",
      "     russian       0.69      0.08      0.15       108\n",
      " southern_us       0.61      0.51      0.55       980\n",
      "     spanish       0.75      0.07      0.12       222\n",
      "        thai       0.77      0.43      0.56       320\n",
      "  vietnamese       0.91      0.20      0.33       200\n",
      "\n",
      "    accuracy                           0.56      8933\n",
      "   macro avg       0.76      0.34      0.41      8933\n",
      "weighted avg       0.68      0.56      0.54      8933\n",
      "\n"
     ]
    }
   ],
   "source": [
    "print(classification_report(y_test, y_pred))"
   ]
  },
  {
   "cell_type": "markdown",
   "metadata": {},
   "source": [
    "## 5. Comparison & conclusion "
   ]
  },
  {
   "cell_type": "markdown",
   "metadata": {},
   "source": [
    "### model_svm_1(kernel=rbf)的準確率為0.73，model_svm_2(kernel=poly)的準確率為0.56。 "
   ]
  }
 ],
 "metadata": {
  "kernelspec": {
   "display_name": "Python 3",
   "language": "python",
   "name": "python3"
  },
  "language_info": {
   "codemirror_mode": {
    "name": "ipython",
    "version": 3
   },
   "file_extension": ".py",
   "mimetype": "text/x-python",
   "name": "python",
   "nbconvert_exporter": "python",
   "pygments_lexer": "ipython3",
   "version": "3.8.5"
  }
 },
 "nbformat": 4,
 "nbformat_minor": 4
}
