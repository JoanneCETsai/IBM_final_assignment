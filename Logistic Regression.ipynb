{
 "cells": [
  {
   "cell_type": "code",
   "execution_count": 1,
   "metadata": {},
   "outputs": [],
   "source": [
    "import numpy as np\n",
    "import pandas as pd\n",
    "import matplotlib\n",
    "import matplotlib.pyplot as plt\n",
    "import urllib3\n",
    "from sklearn.linear_model import LogisticRegression\n",
    "from sklearn.model_selection import train_test_split\n",
    "\n",
    "%matplotlib inline"
   ]
  },
  {
   "cell_type": "code",
   "execution_count": 3,
   "metadata": {},
   "outputs": [],
   "source": [
    "# 1. Data Generation\n",
    "a=np.random.randn(1000,2)"
   ]
  },
  {
   "cell_type": "code",
   "execution_count": 4,
   "metadata": {},
   "outputs": [
    {
     "data": {
      "text/html": [
       "<div>\n",
       "<style scoped>\n",
       "    .dataframe tbody tr th:only-of-type {\n",
       "        vertical-align: middle;\n",
       "    }\n",
       "\n",
       "    .dataframe tbody tr th {\n",
       "        vertical-align: top;\n",
       "    }\n",
       "\n",
       "    .dataframe thead th {\n",
       "        text-align: right;\n",
       "    }\n",
       "</style>\n",
       "<table border=\"1\" class=\"dataframe\">\n",
       "  <thead>\n",
       "    <tr style=\"text-align: right;\">\n",
       "      <th></th>\n",
       "      <th>x0</th>\n",
       "      <th>x1</th>\n",
       "    </tr>\n",
       "  </thead>\n",
       "  <tbody>\n",
       "    <tr>\n",
       "      <th>0</th>\n",
       "      <td>1.008366</td>\n",
       "      <td>2.733925</td>\n",
       "    </tr>\n",
       "    <tr>\n",
       "      <th>1</th>\n",
       "      <td>1.376906</td>\n",
       "      <td>0.275593</td>\n",
       "    </tr>\n",
       "    <tr>\n",
       "      <th>2</th>\n",
       "      <td>1.060060</td>\n",
       "      <td>-3.528144</td>\n",
       "    </tr>\n",
       "    <tr>\n",
       "      <th>3</th>\n",
       "      <td>0.751252</td>\n",
       "      <td>1.273029</td>\n",
       "    </tr>\n",
       "    <tr>\n",
       "      <th>4</th>\n",
       "      <td>2.530185</td>\n",
       "      <td>-1.858626</td>\n",
       "    </tr>\n",
       "    <tr>\n",
       "      <th>...</th>\n",
       "      <td>...</td>\n",
       "      <td>...</td>\n",
       "    </tr>\n",
       "    <tr>\n",
       "      <th>995</th>\n",
       "      <td>0.247963</td>\n",
       "      <td>-0.664896</td>\n",
       "    </tr>\n",
       "    <tr>\n",
       "      <th>996</th>\n",
       "      <td>1.246621</td>\n",
       "      <td>-0.433437</td>\n",
       "    </tr>\n",
       "    <tr>\n",
       "      <th>997</th>\n",
       "      <td>0.369130</td>\n",
       "      <td>0.618941</td>\n",
       "    </tr>\n",
       "    <tr>\n",
       "      <th>998</th>\n",
       "      <td>0.752190</td>\n",
       "      <td>-1.805463</td>\n",
       "    </tr>\n",
       "    <tr>\n",
       "      <th>999</th>\n",
       "      <td>0.709937</td>\n",
       "      <td>-0.199966</td>\n",
       "    </tr>\n",
       "  </tbody>\n",
       "</table>\n",
       "<p>1000 rows × 2 columns</p>\n",
       "</div>"
      ],
      "text/plain": [
       "           x0        x1\n",
       "0    1.008366  2.733925\n",
       "1    1.376906  0.275593\n",
       "2    1.060060 -3.528144\n",
       "3    0.751252  1.273029\n",
       "4    2.530185 -1.858626\n",
       "..        ...       ...\n",
       "995  0.247963 -0.664896\n",
       "996  1.246621 -0.433437\n",
       "997  0.369130  0.618941\n",
       "998  0.752190 -1.805463\n",
       "999  0.709937 -0.199966\n",
       "\n",
       "[1000 rows x 2 columns]"
      ]
     },
     "execution_count": 4,
     "metadata": {},
     "output_type": "execute_result"
    }
   ],
   "source": [
    "a=pd.DataFrame(a)\n",
    "a.columns = ['x0','x1']\n",
    "a"
   ]
  },
  {
   "cell_type": "code",
   "execution_count": 4,
   "metadata": {},
   "outputs": [
    {
     "data": {
      "text/html": [
       "<div>\n",
       "<style scoped>\n",
       "    .dataframe tbody tr th:only-of-type {\n",
       "        vertical-align: middle;\n",
       "    }\n",
       "\n",
       "    .dataframe tbody tr th {\n",
       "        vertical-align: top;\n",
       "    }\n",
       "\n",
       "    .dataframe thead th {\n",
       "        text-align: right;\n",
       "    }\n",
       "</style>\n",
       "<table border=\"1\" class=\"dataframe\">\n",
       "  <thead>\n",
       "    <tr style=\"text-align: right;\">\n",
       "      <th></th>\n",
       "      <th>y</th>\n",
       "    </tr>\n",
       "  </thead>\n",
       "  <tbody>\n",
       "    <tr>\n",
       "      <th>0</th>\n",
       "      <td>1</td>\n",
       "    </tr>\n",
       "    <tr>\n",
       "      <th>1</th>\n",
       "      <td>1</td>\n",
       "    </tr>\n",
       "    <tr>\n",
       "      <th>2</th>\n",
       "      <td>1</td>\n",
       "    </tr>\n",
       "    <tr>\n",
       "      <th>3</th>\n",
       "      <td>0</td>\n",
       "    </tr>\n",
       "    <tr>\n",
       "      <th>4</th>\n",
       "      <td>0</td>\n",
       "    </tr>\n",
       "    <tr>\n",
       "      <th>...</th>\n",
       "      <td>...</td>\n",
       "    </tr>\n",
       "    <tr>\n",
       "      <th>995</th>\n",
       "      <td>0</td>\n",
       "    </tr>\n",
       "    <tr>\n",
       "      <th>996</th>\n",
       "      <td>1</td>\n",
       "    </tr>\n",
       "    <tr>\n",
       "      <th>997</th>\n",
       "      <td>0</td>\n",
       "    </tr>\n",
       "    <tr>\n",
       "      <th>998</th>\n",
       "      <td>0</td>\n",
       "    </tr>\n",
       "    <tr>\n",
       "      <th>999</th>\n",
       "      <td>1</td>\n",
       "    </tr>\n",
       "  </tbody>\n",
       "</table>\n",
       "<p>1000 rows × 1 columns</p>\n",
       "</div>"
      ],
      "text/plain": [
       "     y\n",
       "0    1\n",
       "1    1\n",
       "2    1\n",
       "3    0\n",
       "4    0\n",
       "..  ..\n",
       "995  0\n",
       "996  1\n",
       "997  0\n",
       "998  0\n",
       "999  1\n",
       "\n",
       "[1000 rows x 1 columns]"
      ]
     },
     "execution_count": 4,
     "metadata": {},
     "output_type": "execute_result"
    }
   ],
   "source": [
    "b=np.random.randint(0,2,1000)\n",
    "b=b.reshape(-1,1)\n",
    "y=pd.DataFrame(b)\n",
    "y.columns = ['y']\n",
    "y"
   ]
  },
  {
   "cell_type": "code",
   "execution_count": 5,
   "metadata": {},
   "outputs": [
    {
     "data": {
      "text/html": [
       "<div>\n",
       "<style scoped>\n",
       "    .dataframe tbody tr th:only-of-type {\n",
       "        vertical-align: middle;\n",
       "    }\n",
       "\n",
       "    .dataframe tbody tr th {\n",
       "        vertical-align: top;\n",
       "    }\n",
       "\n",
       "    .dataframe thead th {\n",
       "        text-align: right;\n",
       "    }\n",
       "</style>\n",
       "<table border=\"1\" class=\"dataframe\">\n",
       "  <thead>\n",
       "    <tr style=\"text-align: right;\">\n",
       "      <th></th>\n",
       "      <th>x0</th>\n",
       "      <th>x1</th>\n",
       "      <th>y</th>\n",
       "    </tr>\n",
       "  </thead>\n",
       "  <tbody>\n",
       "    <tr>\n",
       "      <th>0</th>\n",
       "      <td>-0.355148</td>\n",
       "      <td>0.157427</td>\n",
       "      <td>1</td>\n",
       "    </tr>\n",
       "    <tr>\n",
       "      <th>1</th>\n",
       "      <td>-0.643712</td>\n",
       "      <td>1.673891</td>\n",
       "      <td>1</td>\n",
       "    </tr>\n",
       "    <tr>\n",
       "      <th>2</th>\n",
       "      <td>0.096004</td>\n",
       "      <td>-1.204004</td>\n",
       "      <td>1</td>\n",
       "    </tr>\n",
       "    <tr>\n",
       "      <th>3</th>\n",
       "      <td>-0.082320</td>\n",
       "      <td>-0.484804</td>\n",
       "      <td>0</td>\n",
       "    </tr>\n",
       "    <tr>\n",
       "      <th>4</th>\n",
       "      <td>0.030799</td>\n",
       "      <td>1.776897</td>\n",
       "      <td>0</td>\n",
       "    </tr>\n",
       "    <tr>\n",
       "      <th>...</th>\n",
       "      <td>...</td>\n",
       "      <td>...</td>\n",
       "      <td>...</td>\n",
       "    </tr>\n",
       "    <tr>\n",
       "      <th>995</th>\n",
       "      <td>0.223717</td>\n",
       "      <td>2.052224</td>\n",
       "      <td>0</td>\n",
       "    </tr>\n",
       "    <tr>\n",
       "      <th>996</th>\n",
       "      <td>0.055554</td>\n",
       "      <td>-1.189911</td>\n",
       "      <td>1</td>\n",
       "    </tr>\n",
       "    <tr>\n",
       "      <th>997</th>\n",
       "      <td>-0.254031</td>\n",
       "      <td>-1.794257</td>\n",
       "      <td>0</td>\n",
       "    </tr>\n",
       "    <tr>\n",
       "      <th>998</th>\n",
       "      <td>1.074087</td>\n",
       "      <td>-1.120655</td>\n",
       "      <td>0</td>\n",
       "    </tr>\n",
       "    <tr>\n",
       "      <th>999</th>\n",
       "      <td>-0.755694</td>\n",
       "      <td>-1.030223</td>\n",
       "      <td>1</td>\n",
       "    </tr>\n",
       "  </tbody>\n",
       "</table>\n",
       "<p>1000 rows × 3 columns</p>\n",
       "</div>"
      ],
      "text/plain": [
       "           x0        x1  y\n",
       "0   -0.355148  0.157427  1\n",
       "1   -0.643712  1.673891  1\n",
       "2    0.096004 -1.204004  1\n",
       "3   -0.082320 -0.484804  0\n",
       "4    0.030799  1.776897  0\n",
       "..        ...       ... ..\n",
       "995  0.223717  2.052224  0\n",
       "996  0.055554 -1.189911  1\n",
       "997 -0.254031 -1.794257  0\n",
       "998  1.074087 -1.120655  0\n",
       "999 -0.755694 -1.030223  1\n",
       "\n",
       "[1000 rows x 3 columns]"
      ]
     },
     "execution_count": 5,
     "metadata": {},
     "output_type": "execute_result"
    }
   ],
   "source": [
    "df=pd.concat( [a,y], axis=1 )\n",
    "df"
   ]
  },
  {
   "cell_type": "code",
   "execution_count": 6,
   "metadata": {},
   "outputs": [
    {
     "data": {
      "image/png": "[encoded data removed]",
      "text/plain": [
       "<Figure size 432x288 with 1 Axes>"
      ]
     },
     "metadata": {
      "needs_background": "light"
     },
     "output_type": "display_data"
    }
   ],
   "source": [
    "plt.scatter(df['x0'],df['x1'], marker='o',c=df['y']) \n",
    "plt.show()"
   ]
  },
  {
   "cell_type": "code",
   "execution_count": 7,
   "metadata": {
    "scrolled": true
   },
   "outputs": [],
   "source": [
    "# 2. Model Construction\n",
    "model=LogisticRegression()"
   ]
  },
  {
   "cell_type": "code",
   "execution_count": 8,
   "metadata": {},
   "outputs": [],
   "source": [
    "from sklearn.model_selection import train_test_split\n",
    "X_train,X_test,y_train,y_test=train_test_split(a,y,test_size=0.3)"
   ]
  },
  {
   "cell_type": "code",
   "execution_count": 9,
   "metadata": {
    "scrolled": true
   },
   "outputs": [
    {
     "name": "stderr",
     "output_type": "stream",
     "text": [
      "/opt/anaconda3/lib/python3.8/site-packages/sklearn/utils/validation.py:72: DataConversionWarning: A column-vector y was passed when a 1d array was expected. Please change the shape of y to (n_samples, ), for example using ravel().\n",
      "  return f(**kwargs)\n"
     ]
    },
    {
     "data": {
      "text/plain": [
       "LogisticRegression()"
      ]
     },
     "execution_count": 9,
     "metadata": {},
     "output_type": "execute_result"
    }
   ],
   "source": [
    "model.fit(X_train,y_train)"
   ]
  },
  {
   "cell_type": "code",
   "execution_count": 10,
   "metadata": {},
   "outputs": [],
   "source": [
    "#3. Validation - 0%"
   ]
  },
  {
   "cell_type": "code",
   "execution_count": 11,
   "metadata": {},
   "outputs": [
    {
     "data": {
      "text/plain": [
       "array([[0.47695094, 0.52304906],\n",
       "       [0.51056568, 0.48943432],\n",
       "       [0.5065128 , 0.4934872 ],\n",
       "       [0.49563389, 0.50436611],\n",
       "       [0.53276516, 0.46723484],\n",
       "       [0.48262816, 0.51737184],\n",
       "       [0.50168008, 0.49831992],\n",
       "       [0.48287988, 0.51712012],\n",
       "       [0.48815553, 0.51184447],\n",
       "       [0.51643895, 0.48356105],\n",
       "       [0.50425746, 0.49574254],\n",
       "       [0.52651789, 0.47348211],\n",
       "       [0.46609596, 0.53390404],\n",
       "       [0.54083789, 0.45916211],\n",
       "       [0.48204505, 0.51795495],\n",
       "       [0.5221868 , 0.4778132 ],\n",
       "       [0.46978176, 0.53021824],\n",
       "       [0.48245771, 0.51754229],\n",
       "       [0.51210365, 0.48789635],\n",
       "       [0.50260499, 0.49739501],\n",
       "       [0.48560066, 0.51439934],\n",
       "       [0.53823865, 0.46176135],\n",
       "       [0.49298569, 0.50701431],\n",
       "       [0.47866721, 0.52133279],\n",
       "       [0.52599234, 0.47400766],\n",
       "       [0.51729071, 0.48270929],\n",
       "       [0.46566793, 0.53433207],\n",
       "       [0.52507211, 0.47492789],\n",
       "       [0.51963494, 0.48036506],\n",
       "       [0.4999973 , 0.5000027 ],\n",
       "       [0.50270045, 0.49729955],\n",
       "       [0.49600764, 0.50399236],\n",
       "       [0.50637447, 0.49362553],\n",
       "       [0.49047855, 0.50952145],\n",
       "       [0.4760452 , 0.5239548 ],\n",
       "       [0.49592736, 0.50407264],\n",
       "       [0.5156952 , 0.4843048 ],\n",
       "       [0.48319793, 0.51680207],\n",
       "       [0.48873528, 0.51126472],\n",
       "       [0.50563489, 0.49436511],\n",
       "       [0.53545148, 0.46454852],\n",
       "       [0.51117572, 0.48882428],\n",
       "       [0.49362097, 0.50637903],\n",
       "       [0.49318082, 0.50681918],\n",
       "       [0.4887617 , 0.5112383 ],\n",
       "       [0.49941846, 0.50058154],\n",
       "       [0.46914982, 0.53085018],\n",
       "       [0.49881154, 0.50118846],\n",
       "       [0.50153807, 0.49846193],\n",
       "       [0.53091629, 0.46908371],\n",
       "       [0.54155121, 0.45844879],\n",
       "       [0.5052428 , 0.4947572 ],\n",
       "       [0.52830718, 0.47169282],\n",
       "       [0.51806545, 0.48193455],\n",
       "       [0.50585807, 0.49414193],\n",
       "       [0.50764759, 0.49235241],\n",
       "       [0.50053276, 0.49946724],\n",
       "       [0.51189048, 0.48810952],\n",
       "       [0.4976298 , 0.5023702 ],\n",
       "       [0.47850257, 0.52149743],\n",
       "       [0.47995861, 0.52004139],\n",
       "       [0.51939623, 0.48060377],\n",
       "       [0.49046049, 0.50953951],\n",
       "       [0.54915623, 0.45084377],\n",
       "       [0.46964079, 0.53035921],\n",
       "       [0.49951961, 0.50048039],\n",
       "       [0.49032686, 0.50967314],\n",
       "       [0.49554875, 0.50445125],\n",
       "       [0.49218707, 0.50781293],\n",
       "       [0.47573053, 0.52426947],\n",
       "       [0.4747972 , 0.5252028 ],\n",
       "       [0.51569326, 0.48430674],\n",
       "       [0.53141192, 0.46858808],\n",
       "       [0.53578047, 0.46421953],\n",
       "       [0.5459536 , 0.4540464 ],\n",
       "       [0.48502013, 0.51497987],\n",
       "       [0.50814117, 0.49185883],\n",
       "       [0.49729761, 0.50270239],\n",
       "       [0.50165807, 0.49834193],\n",
       "       [0.48540929, 0.51459071],\n",
       "       [0.49345251, 0.50654749],\n",
       "       [0.5280447 , 0.4719553 ],\n",
       "       [0.47810272, 0.52189728],\n",
       "       [0.52801239, 0.47198761],\n",
       "       [0.51031658, 0.48968342],\n",
       "       [0.48102321, 0.51897679],\n",
       "       [0.49567208, 0.50432792],\n",
       "       [0.49603595, 0.50396405],\n",
       "       [0.51372919, 0.48627081],\n",
       "       [0.49693814, 0.50306186],\n",
       "       [0.52202831, 0.47797169],\n",
       "       [0.49127957, 0.50872043],\n",
       "       [0.50923559, 0.49076441],\n",
       "       [0.48475424, 0.51524576],\n",
       "       [0.48418138, 0.51581862],\n",
       "       [0.47779001, 0.52220999],\n",
       "       [0.49883579, 0.50116421],\n",
       "       [0.48411555, 0.51588445],\n",
       "       [0.47930729, 0.52069271],\n",
       "       [0.51200425, 0.48799575],\n",
       "       [0.50285712, 0.49714288],\n",
       "       [0.49954963, 0.50045037],\n",
       "       [0.53148223, 0.46851777],\n",
       "       [0.52430667, 0.47569333],\n",
       "       [0.51647553, 0.48352447],\n",
       "       [0.51865472, 0.48134528],\n",
       "       [0.50075261, 0.49924739],\n",
       "       [0.49143273, 0.50856727],\n",
       "       [0.50898977, 0.49101023],\n",
       "       [0.49634077, 0.50365923],\n",
       "       [0.47468115, 0.52531885],\n",
       "       [0.49510208, 0.50489792],\n",
       "       [0.49115934, 0.50884066],\n",
       "       [0.48812989, 0.51187011],\n",
       "       [0.49311847, 0.50688153],\n",
       "       [0.48172909, 0.51827091],\n",
       "       [0.50075077, 0.49924923],\n",
       "       [0.52901453, 0.47098547],\n",
       "       [0.50805818, 0.49194182],\n",
       "       [0.51962158, 0.48037842],\n",
       "       [0.51737331, 0.48262669],\n",
       "       [0.48018609, 0.51981391],\n",
       "       [0.52652791, 0.47347209],\n",
       "       [0.47952259, 0.52047741],\n",
       "       [0.5010325 , 0.4989675 ],\n",
       "       [0.52026789, 0.47973211],\n",
       "       [0.47621881, 0.52378119],\n",
       "       [0.50348426, 0.49651574],\n",
       "       [0.50233419, 0.49766581],\n",
       "       [0.50552942, 0.49447058],\n",
       "       [0.47922008, 0.52077992],\n",
       "       [0.50432984, 0.49567016],\n",
       "       [0.54716601, 0.45283399],\n",
       "       [0.49127485, 0.50872515],\n",
       "       [0.50250723, 0.49749277],\n",
       "       [0.52967662, 0.47032338],\n",
       "       [0.51188023, 0.48811977],\n",
       "       [0.50007856, 0.49992144],\n",
       "       [0.51792977, 0.48207023],\n",
       "       [0.49189642, 0.50810358],\n",
       "       [0.48070796, 0.51929204],\n",
       "       [0.49780089, 0.50219911],\n",
       "       [0.52238625, 0.47761375],\n",
       "       [0.5052669 , 0.4947331 ],\n",
       "       [0.48296703, 0.51703297],\n",
       "       [0.49091884, 0.50908116],\n",
       "       [0.52881298, 0.47118702],\n",
       "       [0.47962454, 0.52037546],\n",
       "       [0.48702274, 0.51297726],\n",
       "       [0.51379867, 0.48620133],\n",
       "       [0.50225817, 0.49774183],\n",
       "       [0.50936114, 0.49063886],\n",
       "       [0.5151419 , 0.4848581 ],\n",
       "       [0.5138314 , 0.4861686 ],\n",
       "       [0.50247492, 0.49752508],\n",
       "       [0.51557893, 0.48442107],\n",
       "       [0.50697104, 0.49302896],\n",
       "       [0.50506486, 0.49493514],\n",
       "       [0.49296196, 0.50703804],\n",
       "       [0.47693004, 0.52306996],\n",
       "       [0.5266329 , 0.4733671 ],\n",
       "       [0.50865297, 0.49134703],\n",
       "       [0.50004154, 0.49995846],\n",
       "       [0.51576308, 0.48423692],\n",
       "       [0.49113835, 0.50886165],\n",
       "       [0.47012993, 0.52987007],\n",
       "       [0.46821626, 0.53178374],\n",
       "       [0.51314903, 0.48685097],\n",
       "       [0.50328647, 0.49671353],\n",
       "       [0.49827542, 0.50172458],\n",
       "       [0.49848341, 0.50151659],\n",
       "       [0.52140432, 0.47859568],\n",
       "       [0.50424642, 0.49575358],\n",
       "       [0.48911357, 0.51088643],\n",
       "       [0.51434   , 0.48566   ],\n",
       "       [0.52725357, 0.47274643],\n",
       "       [0.49407914, 0.50592086],\n",
       "       [0.49477163, 0.50522837],\n",
       "       [0.49930094, 0.50069906],\n",
       "       [0.50946414, 0.49053586],\n",
       "       [0.47991003, 0.52008997],\n",
       "       [0.49822549, 0.50177451],\n",
       "       [0.51022639, 0.48977361],\n",
       "       [0.51390915, 0.48609085],\n",
       "       [0.52679501, 0.47320499],\n",
       "       [0.4982877 , 0.5017123 ],\n",
       "       [0.46793659, 0.53206341],\n",
       "       [0.49859276, 0.50140724],\n",
       "       [0.51941598, 0.48058402],\n",
       "       [0.50962244, 0.49037756],\n",
       "       [0.50361099, 0.49638901],\n",
       "       [0.51658391, 0.48341609],\n",
       "       [0.51671855, 0.48328145],\n",
       "       [0.5008652 , 0.4991348 ],\n",
       "       [0.50824911, 0.49175089],\n",
       "       [0.50528275, 0.49471725],\n",
       "       [0.49989511, 0.50010489],\n",
       "       [0.52918923, 0.47081077],\n",
       "       [0.50290835, 0.49709165],\n",
       "       [0.50692441, 0.49307559],\n",
       "       [0.49465867, 0.50534133],\n",
       "       [0.48120751, 0.51879249],\n",
       "       [0.52947481, 0.47052519],\n",
       "       [0.49029355, 0.50970645],\n",
       "       [0.46956768, 0.53043232],\n",
       "       [0.49029442, 0.50970558],\n",
       "       [0.49464757, 0.50535243],\n",
       "       [0.5018347 , 0.4981653 ],\n",
       "       [0.52004104, 0.47995896],\n",
       "       [0.5099672 , 0.4900328 ],\n",
       "       [0.49321737, 0.50678263],\n",
       "       [0.49306829, 0.50693171],\n",
       "       [0.52336993, 0.47663007],\n",
       "       [0.48684251, 0.51315749],\n",
       "       [0.50873254, 0.49126746],\n",
       "       [0.54161368, 0.45838632],\n",
       "       [0.49376374, 0.50623626],\n",
       "       [0.482932  , 0.517068  ],\n",
       "       [0.48209878, 0.51790122],\n",
       "       [0.51955914, 0.48044086],\n",
       "       [0.47371484, 0.52628516],\n",
       "       [0.50383649, 0.49616351],\n",
       "       [0.53492719, 0.46507281],\n",
       "       [0.51356932, 0.48643068],\n",
       "       [0.50365295, 0.49634705],\n",
       "       [0.52297754, 0.47702246],\n",
       "       [0.51894731, 0.48105269],\n",
       "       [0.50056669, 0.49943331],\n",
       "       [0.50224007, 0.49775993],\n",
       "       [0.50130698, 0.49869302],\n",
       "       [0.51334235, 0.48665765],\n",
       "       [0.50650562, 0.49349438],\n",
       "       [0.50927015, 0.49072985],\n",
       "       [0.49682779, 0.50317221],\n",
       "       [0.50887001, 0.49112999],\n",
       "       [0.49860566, 0.50139434],\n",
       "       [0.53257895, 0.46742105],\n",
       "       [0.53484079, 0.46515921],\n",
       "       [0.50877092, 0.49122908],\n",
       "       [0.50295722, 0.49704278],\n",
       "       [0.4910384 , 0.5089616 ],\n",
       "       [0.50294762, 0.49705238],\n",
       "       [0.51328901, 0.48671099],\n",
       "       [0.47433822, 0.52566178],\n",
       "       [0.49389869, 0.50610131],\n",
       "       [0.48293379, 0.51706621],\n",
       "       [0.47487767, 0.52512233],\n",
       "       [0.51096103, 0.48903897],\n",
       "       [0.51511462, 0.48488538],\n",
       "       [0.50742419, 0.49257581],\n",
       "       [0.50049169, 0.49950831],\n",
       "       [0.49993289, 0.50006711],\n",
       "       [0.52146025, 0.47853975],\n",
       "       [0.48977408, 0.51022592],\n",
       "       [0.5131818 , 0.4868182 ],\n",
       "       [0.51751261, 0.48248739],\n",
       "       [0.50514451, 0.49485549],\n",
       "       [0.52861062, 0.47138938],\n",
       "       [0.49574281, 0.50425719],\n",
       "       [0.49885834, 0.50114166],\n",
       "       [0.46632689, 0.53367311],\n",
       "       [0.50944338, 0.49055662],\n",
       "       [0.47276281, 0.52723719],\n",
       "       [0.4996359 , 0.5003641 ],\n",
       "       [0.50072756, 0.49927244],\n",
       "       [0.49565493, 0.50434507],\n",
       "       [0.51164184, 0.48835816],\n",
       "       [0.50001976, 0.49998024],\n",
       "       [0.51842187, 0.48157813],\n",
       "       [0.4859656 , 0.5140344 ],\n",
       "       [0.53011756, 0.46988244],\n",
       "       [0.49287721, 0.50712279],\n",
       "       [0.48100205, 0.51899795],\n",
       "       [0.51995673, 0.48004327],\n",
       "       [0.49034511, 0.50965489],\n",
       "       [0.50027713, 0.49972287],\n",
       "       [0.50677314, 0.49322686],\n",
       "       [0.50813895, 0.49186105],\n",
       "       [0.51479539, 0.48520461],\n",
       "       [0.47254289, 0.52745711],\n",
       "       [0.46936955, 0.53063045],\n",
       "       [0.50034428, 0.49965572],\n",
       "       [0.48234068, 0.51765932],\n",
       "       [0.46412782, 0.53587218],\n",
       "       [0.47904453, 0.52095547],\n",
       "       [0.49963467, 0.50036533],\n",
       "       [0.50862287, 0.49137713],\n",
       "       [0.50807293, 0.49192707],\n",
       "       [0.50998594, 0.49001406],\n",
       "       [0.50743816, 0.49256184],\n",
       "       [0.48788398, 0.51211602],\n",
       "       [0.49135399, 0.50864601],\n",
       "       [0.50964325, 0.49035675],\n",
       "       [0.47192069, 0.52807931],\n",
       "       [0.50533537, 0.49466463],\n",
       "       [0.50334694, 0.49665306],\n",
       "       [0.53212119, 0.46787881],\n",
       "       [0.52269554, 0.47730446],\n",
       "       [0.48837371, 0.51162629],\n",
       "       [0.50556869, 0.49443131]])"
      ]
     },
     "execution_count": 11,
     "metadata": {},
     "output_type": "execute_result"
    }
   ],
   "source": [
    "# 4. result\n",
    "model.predict_proba(X_test)"
   ]
  },
  {
   "cell_type": "code",
   "execution_count": 12,
   "metadata": {},
   "outputs": [
    {
     "data": {
      "text/plain": [
       "0.49"
      ]
     },
     "execution_count": 12,
     "metadata": {},
     "output_type": "execute_result"
    }
   ],
   "source": [
    "# model accuracy\n",
    "model.score(X_test,y_test)"
   ]
  },
  {
   "cell_type": "code",
   "execution_count": 13,
   "metadata": {},
   "outputs": [
    {
     "name": "stdout",
     "output_type": "stream",
     "text": [
      "79 65 88 68\n"
     ]
    }
   ],
   "source": [
    "from sklearn.metrics import confusion_matrix\n",
    "\n",
    "y_true=y_test\n",
    "y_pred=model.predict(X_test)\n",
    "tn, fp, fn, tp = confusion_matrix(y_true, y_pred).ravel()\n",
    "print(tn, fp, fn, tp)"
   ]
  },
  {
   "cell_type": "code",
   "execution_count": 14,
   "metadata": {},
   "outputs": [
    {
     "data": {
      "text/plain": [
       "0.49"
      ]
     },
     "execution_count": 14,
     "metadata": {},
     "output_type": "execute_result"
    }
   ],
   "source": [
    "accuracy=(tp+tn)/(tp+fp+fn+tn)\n",
    "accuracy"
   ]
  },
  {
   "cell_type": "code",
   "execution_count": 15,
   "metadata": {},
   "outputs": [
    {
     "data": {
      "text/plain": [
       "array([[0.07116106, 0.01335086]])"
      ]
     },
     "execution_count": 15,
     "metadata": {},
     "output_type": "execute_result"
    }
   ],
   "source": [
    "# model weights and the corresponded terms\n",
    "model.coef_"
   ]
  },
  {
   "cell_type": "code",
   "execution_count": 16,
   "metadata": {
    "scrolled": true
   },
   "outputs": [
    {
     "data": {
      "text/plain": [
       "array([-0.00469452])"
      ]
     },
     "execution_count": 16,
     "metadata": {},
     "output_type": "execute_result"
    }
   ],
   "source": [
    "model.intercept_"
   ]
  },
  {
   "cell_type": "code",
   "execution_count": 17,
   "metadata": {},
   "outputs": [],
   "source": [
    "# 所以: yi=L(-0.02 -0.04*xi0 +0.07*xi1)"
   ]
  },
  {
   "cell_type": "code",
   "execution_count": 18,
   "metadata": {
    "scrolled": true
   },
   "outputs": [
    {
     "name": "stderr",
     "output_type": "stream",
     "text": [
      "<ipython-input-18-97468d710575>:17: MatplotlibDeprecationWarning: shading='flat' when X and Y have the same dimensions as C is deprecated since 3.3.  Either specify the corners of the quadrilaterals with X and Y, or pass shading='auto', 'nearest' or 'gouraud', or set rcParams['pcolor.shading'].  This will become an error two minor releases later.\n",
      "  plt.pcolormesh(xx, yy, Z, cmap=cmap_light)\n"
     ]
    },
    {
     "data": {
      "image/png": "[encoded data removed]",
      "text/plain": [
       "<Figure size 432x288 with 1 Axes>"
      ]
     },
     "metadata": {
      "needs_background": "light"
     },
     "output_type": "display_data"
    }
   ],
   "source": [
    "# show the decision boundary with a figure\n",
    "\n",
    "from matplotlib.colors import ListedColormap\n",
    "\n",
    "h = 0.02\n",
    "x_min, x_max = X_test['x0'].min() - 1, X_test['x0'].max() + 1\n",
    "y_min, y_max = X_test['x1'].min() - 1, X_test['x1'].max() + 1\n",
    "xx, yy = np.meshgrid(np.arange(x_min, x_max, h),\n",
    "                     np.arange(y_min, y_max, h)) \n",
    "Z = model.predict(np.c_[xx.ravel(), yy.ravel()])\n",
    "\n",
    "cmap_light = ListedColormap(['#FFAAAA', '#AAFFAA', '#AAAAFF']) \n",
    "cmap_bold = ListedColormap(['#FF0000', '#003300', '#0000FF'])\n",
    "#把預測的結果在平面座標上畫出\n",
    "Z=Z.reshape(xx.shape)\n",
    "plt.figure()\n",
    "plt.pcolormesh(xx, yy, Z, cmap=cmap_light)\n",
    "# 畫出訓練集\n",
    "plt.scatter(X_train['x0'], X_train['x1'], c=[y_train], cmap=cmap_bold)\n",
    "plt.xlim(xx.min(), xx.max())\n",
    "plt.ylim(yy.min(), yy.max())\n",
    "\n",
    "plt.show()"
   ]
  }
 ],
 "metadata": {
  "kernelspec": {
   "display_name": "Python 3",
   "language": "python",
   "name": "python3"
  },
  "language_info": {
   "codemirror_mode": {
    "name": "ipython",
    "version": 3
   },
   "file_extension": ".py",
   "mimetype": "text/x-python",
   "name": "python",
   "nbconvert_exporter": "python",
   "pygments_lexer": "ipython3",
   "version": "3.8.5"
  }
 },
 "nbformat": 4,
 "nbformat_minor": 4
}
