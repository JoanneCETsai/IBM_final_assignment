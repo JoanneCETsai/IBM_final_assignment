{
 "cells": [
  {
   "cell_type": "markdown",
   "id": "e729f0a2",
   "metadata": {},
   "source": [
    "# Lesson 1. Binary Search, Linked Lists, and Complexity Analysis\n",
    "\n",
    "## Question. find the position of a given number in a list arranged in decreasing order with the least access times."
   ]
  },
  {
   "cell_type": "markdown",
   "id": "90b23db6",
   "metadata": {},
   "source": [
    "### 最先的想法"
   ]
  },
  {
   "cell_type": "code",
   "execution_count": 1,
   "id": "dd233692",
   "metadata": {},
   "outputs": [],
   "source": [
    "def locate_card(cards, query):\n",
    "    \n",
    "    small, big = 0, len(cards) - 1\n",
    "    \n",
    "    while small <= big:\n",
    "   \n",
    "        mid = (small+big) // 2\n",
    "        mid_number = cards[mid]\n",
    "        \n",
    "          \n",
    "        if mid_number == query:\n",
    "            return mid\n",
    "            \n",
    "        elif mid_number < query:\n",
    "            big = mid - 1\n",
    "            \n",
    "        elif mid_number > query:\n",
    "            small = mid + 1\n",
    "    \n",
    "    return -1\n",
    "            \n",
    "            "
   ]
  },
  {
   "cell_type": "markdown",
   "id": "04059036",
   "metadata": {},
   "source": [
    "### create tests set for later test. 一個test是一個dictionary, test set是由很多dictionary組成的list."
   ]
  },
  {
   "cell_type": "code",
   "execution_count": 2,
   "id": "c4ec8853",
   "metadata": {},
   "outputs": [],
   "source": [
    "test = {\n",
    "    \"input\":{\n",
    "        \"cards\":[7,6,5,4,3,2,1],\n",
    "        \"query\":3\n",
    "    },\n",
    " \n",
    "    \"output\":4\n",
    "}"
   ]
  },
  {
   "cell_type": "code",
   "execution_count": 3,
   "id": "48aeca47",
   "metadata": {},
   "outputs": [],
   "source": [
    "tests = []\n",
    "tests.append(test)\n",
    "tests.append({\n",
    "    \"input\":{\n",
    "        \"cards\":[10,9,8,8,8,8,5],\n",
    "        \"query\":8\n",
    "    },\n",
    "    \"output\":2\n",
    "})"
   ]
  },
  {
   "cell_type": "code",
   "execution_count": 4,
   "id": "429b7b88",
   "metadata": {},
   "outputs": [],
   "source": [
    "tests.append({\n",
    "    \"input\":{\n",
    "        \"cards\":[10,9,8,8,8,8,5],\n",
    "        \"query\":7\n",
    "    },\n",
    "    \"output\":-1\n",
    "})"
   ]
  },
  {
   "cell_type": "code",
   "execution_count": 5,
   "id": "4faaa458",
   "metadata": {},
   "outputs": [],
   "source": [
    "tests.append({\n",
    "    \"input\":{\n",
    "        \"cards\":[4,3,2,1],\n",
    "        \"query\":2\n",
    "    },\n",
    "    \"output\":2\n",
    "})"
   ]
  },
  {
   "cell_type": "code",
   "execution_count": 6,
   "id": "43a70b8e",
   "metadata": {},
   "outputs": [],
   "source": [
    "tests.append({\n",
    "    \"input\":{\n",
    "        \"cards\":[4,3,2,1],\n",
    "        \"query\":1\n",
    "    },\n",
    "    \"output\":3\n",
    "})"
   ]
  },
  {
   "cell_type": "code",
   "execution_count": 7,
   "id": "c6f7fa4f",
   "metadata": {},
   "outputs": [],
   "source": [
    "tests.append({\n",
    "    \"input\":{\n",
    "        \"cards\":[4,3,2,1],\n",
    "        \"query\":4\n",
    "    },\n",
    "    \"output\":0\n",
    "})"
   ]
  },
  {
   "cell_type": "code",
   "execution_count": 8,
   "id": "afb85a00",
   "metadata": {},
   "outputs": [],
   "source": [
    "tests.append({\n",
    "    \"input\":{\n",
    "        \"cards\":[4],\n",
    "        \"query\":4\n",
    "    },\n",
    "    \"output\":0\n",
    "})"
   ]
  },
  {
   "cell_type": "code",
   "execution_count": 9,
   "id": "33325206",
   "metadata": {},
   "outputs": [],
   "source": [
    "tests.append({\n",
    "    \"input\":{\n",
    "        \"cards\":[],\n",
    "        \"query\":2\n",
    "    },\n",
    "    \"output\":-1\n",
    "})"
   ]
  },
  {
   "cell_type": "code",
   "execution_count": 10,
   "id": "f47aa66b",
   "metadata": {},
   "outputs": [],
   "source": [
    "tests.append({\n",
    "    \"input\":{\n",
    "        \"cards\":[8,8,8,8,8,6,6,4,4,3,2,1],\n",
    "        \"query\":4\n",
    "    },\n",
    "    \"output\":7\n",
    "})"
   ]
  },
  {
   "cell_type": "code",
   "execution_count": 11,
   "id": "25e32ca9",
   "metadata": {},
   "outputs": [
    {
     "data": {
      "text/plain": [
       "[{'input': {'cards': [7, 6, 5, 4, 3, 2, 1], 'query': 3}, 'output': 4},\n",
       " {'input': {'cards': [10, 9, 8, 8, 8, 8, 5], 'query': 8}, 'output': 2},\n",
       " {'input': {'cards': [10, 9, 8, 8, 8, 8, 5], 'query': 7}, 'output': -1},\n",
       " {'input': {'cards': [4, 3, 2, 1], 'query': 2}, 'output': 2},\n",
       " {'input': {'cards': [4, 3, 2, 1], 'query': 1}, 'output': 3},\n",
       " {'input': {'cards': [4, 3, 2, 1], 'query': 4}, 'output': 0},\n",
       " {'input': {'cards': [4], 'query': 4}, 'output': 0},\n",
       " {'input': {'cards': [], 'query': 2}, 'output': -1},\n",
       " {'input': {'cards': [8, 8, 8, 8, 8, 6, 6, 4, 4, 3, 2, 1], 'query': 4},\n",
       "  'output': 7}]"
      ]
     },
     "execution_count": 11,
     "metadata": {},
     "output_type": "execute_result"
    }
   ],
   "source": [
    "tests"
   ]
  },
  {
   "cell_type": "code",
   "execution_count": 88,
   "id": "08eaa15e",
   "metadata": {},
   "outputs": [
    {
     "data": {
      "text/plain": [
       "0"
      ]
     },
     "execution_count": 88,
     "metadata": {},
     "output_type": "execute_result"
    }
   ],
   "source": [
    "len([])"
   ]
  },
  {
   "cell_type": "markdown",
   "id": "f40112a6",
   "metadata": {},
   "source": [
    "### checking function"
   ]
  },
  {
   "cell_type": "code",
   "execution_count": 12,
   "id": "9f0b193c",
   "metadata": {},
   "outputs": [],
   "source": [
    "def pass_or_not(function, test_set):\n",
    "    for test in test_set:\n",
    "        if function(**test['input']) == test[\"output\"]:\n",
    "            print(\"pass!\")\n",
    "        else:\n",
    "            print(\"not pass: \", test)\n",
    "        "
   ]
  },
  {
   "cell_type": "code",
   "execution_count": 13,
   "id": "5af510d8",
   "metadata": {},
   "outputs": [
    {
     "data": {
      "text/plain": [
       "-1"
      ]
     },
     "execution_count": 13,
     "metadata": {},
     "output_type": "execute_result"
    }
   ],
   "source": [
    "locate_card([7,5,4,3,2,1,0], 12)"
   ]
  },
  {
   "cell_type": "code",
   "execution_count": 14,
   "id": "cde891b8",
   "metadata": {},
   "outputs": [
    {
     "name": "stdout",
     "output_type": "stream",
     "text": [
      "pass!\n",
      "not pass:  {'input': {'cards': [10, 9, 8, 8, 8, 8, 5], 'query': 8}, 'output': 2}\n",
      "pass!\n",
      "pass!\n",
      "pass!\n",
      "pass!\n",
      "pass!\n",
      "pass!\n",
      "not pass:  {'input': {'cards': [8, 8, 8, 8, 8, 6, 6, 4, 4, 3, 2, 1], 'query': 4}, 'output': 7}\n"
     ]
    }
   ],
   "source": [
    "pass_or_not(locate_card, tests)"
   ]
  },
  {
   "cell_type": "markdown",
   "id": "7cd8e511",
   "metadata": {},
   "source": [
    "### 發現有些test set無法通過，修改function。加進一個helper function。"
   ]
  },
  {
   "cell_type": "code",
   "execution_count": 15,
   "id": "3cfda6d3",
   "metadata": {},
   "outputs": [],
   "source": [
    "def test_location(cards, query, mid):\n",
    "    mid_number = cards[mid]\n",
    "    \n",
    "    if mid_number == query:\n",
    "        if mid-1 >= 0 and cards[mid-1] == query:\n",
    "            return \"left\"\n",
    "        else:\n",
    "            return \"found\"\n",
    "        \n",
    "    elif mid_number > query:\n",
    "        return \"right\"\n",
    "    \n",
    "    elif mid_number < query:\n",
    "        return \"left\""
   ]
  },
  {
   "cell_type": "code",
   "execution_count": 16,
   "id": "b1947aea",
   "metadata": {},
   "outputs": [],
   "source": [
    "def locate_card(cards, query):\n",
    "    \n",
    "    small, big = 0, len(cards) - 1\n",
    "    \n",
    "    while small <= big:\n",
    "   \n",
    "        mid = (small+big) // 2\n",
    "        mid_number = cards[mid]\n",
    "        result = test_location(cards, query, mid)\n",
    "          \n",
    "        if result == \"found\":\n",
    "            return mid\n",
    "            \n",
    "        elif result == \"left\":\n",
    "            big = mid - 1\n",
    "            \n",
    "        elif result == \"right\":\n",
    "            small = mid + 1\n",
    "    \n",
    "    return -1  #def遇到return就結束 吧"
   ]
  },
  {
   "cell_type": "code",
   "execution_count": 17,
   "id": "c27b420c",
   "metadata": {},
   "outputs": [
    {
     "name": "stdout",
     "output_type": "stream",
     "text": [
      "pass!\n",
      "pass!\n",
      "pass!\n",
      "pass!\n",
      "pass!\n",
      "pass!\n",
      "pass!\n",
      "pass!\n",
      "pass!\n"
     ]
    }
   ],
   "source": [
    "pass_or_not(locate_card, tests)"
   ]
  },
  {
   "cell_type": "markdown",
   "id": "1721d6d0",
   "metadata": {},
   "source": [
    "### 再練習一次"
   ]
  },
  {
   "cell_type": "code",
   "execution_count": 18,
   "id": "78ce5e67",
   "metadata": {},
   "outputs": [],
   "source": [
    "test_list = []\n",
    "test1 = {\n",
    "    \"input\":{\n",
    "        \"cards\":[6,5,4,3,2,1,0],\n",
    "        \"query\":3\n",
    "    },\n",
    "    \"output\":3\n",
    "}"
   ]
  },
  {
   "cell_type": "code",
   "execution_count": 19,
   "id": "f490910b",
   "metadata": {},
   "outputs": [],
   "source": [
    "test_list.append(test1)"
   ]
  },
  {
   "cell_type": "code",
   "execution_count": 20,
   "id": "9ce735b8",
   "metadata": {},
   "outputs": [],
   "source": [
    "test_list.append({\n",
    "    \"input\":{\n",
    "        \"cards\":[6,5,4,3,2,0],\n",
    "        \"query\":4\n",
    "    },\n",
    "    \"output\":2\n",
    "})"
   ]
  },
  {
   "cell_type": "code",
   "execution_count": 21,
   "id": "81783e64",
   "metadata": {},
   "outputs": [],
   "source": [
    "test_list.append({\n",
    "    \"input\":{\n",
    "        \"cards\":[6,5,4,3,2,0],\n",
    "        \"query\":12\n",
    "    },\n",
    "    \"output\":-1\n",
    "})"
   ]
  },
  {
   "cell_type": "code",
   "execution_count": 22,
   "id": "1bd1b016",
   "metadata": {},
   "outputs": [],
   "source": [
    "test_list.append({\n",
    "    \"input\":{\n",
    "        \"cards\":[6,6,5,4,3,2,0],\n",
    "        \"query\":6\n",
    "    },\n",
    "    \"output\":0\n",
    "})"
   ]
  },
  {
   "cell_type": "code",
   "execution_count": 23,
   "id": "89da74de",
   "metadata": {},
   "outputs": [],
   "source": [
    "test_list.append({\n",
    "    \"input\":{\n",
    "        \"cards\":[6,6,6,6,3,2,0],\n",
    "        \"query\":6\n",
    "    },\n",
    "    \"output\":0\n",
    "})"
   ]
  },
  {
   "cell_type": "code",
   "execution_count": 24,
   "id": "360919b3",
   "metadata": {},
   "outputs": [],
   "source": [
    "#test_list.pop(4)"
   ]
  },
  {
   "cell_type": "code",
   "execution_count": 25,
   "id": "155221d0",
   "metadata": {},
   "outputs": [],
   "source": [
    "#test_list"
   ]
  },
  {
   "cell_type": "code",
   "execution_count": 26,
   "id": "4947e6a9",
   "metadata": {},
   "outputs": [],
   "source": [
    "test_list.append({\n",
    "    \"input\":{\n",
    "        \"cards\":[],\n",
    "        \"query\":6\n",
    "    },\n",
    "    \"output\":-1\n",
    "})"
   ]
  },
  {
   "cell_type": "code",
   "execution_count": 27,
   "id": "743e83cd",
   "metadata": {},
   "outputs": [],
   "source": [
    "test_list.append({\n",
    "    \"input\":{\n",
    "        \"cards\":[2],\n",
    "        \"query\":2\n",
    "    },\n",
    "    \"output\":0\n",
    "})"
   ]
  },
  {
   "cell_type": "code",
   "execution_count": 28,
   "id": "0bf406cf",
   "metadata": {},
   "outputs": [],
   "source": [
    "test_list.append({\n",
    "    \"input\":{\n",
    "        \"cards\":[8,7,6,5,4,3],\n",
    "        \"query\":8\n",
    "    },\n",
    "    \"output\":0\n",
    "})"
   ]
  },
  {
   "cell_type": "code",
   "execution_count": 29,
   "id": "3ba21b65",
   "metadata": {},
   "outputs": [],
   "source": [
    "test_list.append({\n",
    "    \"input\":{\n",
    "        \"cards\":[8,7,6,5,4,3],\n",
    "        \"query\":3\n",
    "    },\n",
    "    \"output\":5\n",
    "})"
   ]
  },
  {
   "cell_type": "code",
   "execution_count": 30,
   "id": "b68a84d8",
   "metadata": {},
   "outputs": [],
   "source": [
    "def where_query(cards, query):\n",
    "    \n",
    "    low, high = 0, len(cards)-1\n",
    "    \n",
    "    while low <= high:\n",
    "        mid = (low + high) // 2\n",
    "        result = left_or_right(cards, query, mid)\n",
    "        if result == \"found\":\n",
    "            return mid\n",
    "        elif result == \"right\":\n",
    "            low = mid +1\n",
    "        elif result == \"left\":\n",
    "            high = mid - 1\n",
    "            \n",
    "    return -1"
   ]
  },
  {
   "cell_type": "code",
   "execution_count": 31,
   "id": "b8dbd63d",
   "metadata": {},
   "outputs": [],
   "source": [
    "def left_or_right(cards, query, mid):\n",
    "    mid_number = cards[mid]\n",
    "    if mid_number == query:\n",
    "        if mid - 1 >= 0 and cards[mid-1] == query:\n",
    "                return \"left\"\n",
    "        else:\n",
    "                return \"found\"\n",
    "    elif mid_number > query:\n",
    "            return \"right\"\n",
    "    elif mid_number < query:\n",
    "                return \"left\""
   ]
  },
  {
   "cell_type": "code",
   "execution_count": 32,
   "id": "e5cbd9d8",
   "metadata": {},
   "outputs": [],
   "source": [
    "def does_it_pass(function, tests):\n",
    "    for test in tests:\n",
    "        if function(**test[\"input\"]) == test[\"output\"]:\n",
    "            print(\"pass!\")\n",
    "        else:\n",
    "            print(\"not pass:\", test)"
   ]
  },
  {
   "cell_type": "code",
   "execution_count": 33,
   "id": "6b7b79fb",
   "metadata": {},
   "outputs": [
    {
     "name": "stdout",
     "output_type": "stream",
     "text": [
      "pass!\n",
      "pass!\n",
      "pass!\n",
      "pass!\n",
      "pass!\n",
      "pass!\n",
      "pass!\n",
      "pass!\n",
      "pass!\n"
     ]
    }
   ],
   "source": [
    "does_it_pass(where_query, test_list)"
   ]
  },
  {
   "cell_type": "markdown",
   "id": "f34ece39",
   "metadata": {},
   "source": [
    "## Question. Given an array of intergers sorted in ascending order, find the starting and ending position of a given number."
   ]
  },
  {
   "cell_type": "markdown",
   "id": "e66fc3b4",
   "metadata": {},
   "source": [
    "### creatre generic algorithm for binary search."
   ]
  },
  {
   "cell_type": "code",
   "execution_count": 34,
   "id": "ad2547b0",
   "metadata": {},
   "outputs": [],
   "source": [
    "def binary_search(lo, hi, condition):\n",
    "    \n",
    "    while lo <= hi:\n",
    "        mid = (lo + hi) // 2\n",
    "        result = condition(mid)\n",
    "        \n",
    "        if result == \"found\":\n",
    "            return mid\n",
    "        elif result == \"left\":\n",
    "            hi = mid -1\n",
    "        elif result == \"right\":\n",
    "            lo = mid + 1\n",
    "            \n",
    "    return -1"
   ]
  },
  {
   "cell_type": "code",
   "execution_count": 35,
   "id": "193bc490",
   "metadata": {},
   "outputs": [],
   "source": [
    "def locate_start(cards, query):\n",
    "    \n",
    "    def condition(mid):\n",
    "        if cards[mid] == query:\n",
    "            if mid - 1 >=0 and cards[mid -1] == query:\n",
    "                return \"left\"\n",
    "            else:\n",
    "                return \"found\"\n",
    "        elif cards[mid] > query:\n",
    "            return \"left\"\n",
    "        elif cards[mid] < query:\n",
    "            return \"right\"\n",
    "        \n",
    "    return binary_search(0, len(cards)-1, condition)\n",
    "            \n",
    "            "
   ]
  },
  {
   "cell_type": "code",
   "execution_count": 36,
   "id": "fc0b0db3",
   "metadata": {},
   "outputs": [],
   "source": [
    "def locate_end(cards, query):\n",
    "    \n",
    "    def condition(mid):\n",
    "        if cards[mid] == query:\n",
    "            if (len(cards)-1) - mid >= 1 and cards[mid + 1] == query:\n",
    "                return \"right\"\n",
    "            else:\n",
    "                return \"found\"\n",
    "        elif cards[mid] > query:\n",
    "            return \"left\"\n",
    "        elif cards[mid] < query:\n",
    "            return \"right\"\n",
    "        \n",
    "    return binary_search(0, len(cards)-1, condition)\n",
    "            \n",
    "            "
   ]
  },
  {
   "cell_type": "code",
   "execution_count": 37,
   "id": "ae806305",
   "metadata": {},
   "outputs": [],
   "source": [
    "def locate_start_end(cards, query):\n",
    "    return locate_start(cards, query), locate_end(cards, query)"
   ]
  },
  {
   "cell_type": "code",
   "execution_count": 38,
   "id": "c7cca8f6",
   "metadata": {},
   "outputs": [],
   "source": [
    "tests=[]"
   ]
  },
  {
   "cell_type": "code",
   "execution_count": 39,
   "id": "6fd33c46",
   "metadata": {},
   "outputs": [],
   "source": [
    "tests.append({\n",
    "    \"input\":{\n",
    "        \"cards\":[1,2,3,4,5,5,5],\n",
    "        \"query\":5\n",
    "    },\n",
    "    \"output\":tuple([4,6])\n",
    "})"
   ]
  },
  {
   "cell_type": "code",
   "execution_count": 40,
   "id": "5e46bd52",
   "metadata": {},
   "outputs": [],
   "source": [
    "tests.append({\n",
    "    \"input\":{\n",
    "        \"cards\":[1,1,1,1,2,3,4,5],\n",
    "        \"query\":1\n",
    "    },\n",
    "    \"output\":tuple([0,3])\n",
    "})"
   ]
  },
  {
   "cell_type": "code",
   "execution_count": 41,
   "id": "eb6c8086",
   "metadata": {},
   "outputs": [],
   "source": [
    "tests.append({\n",
    "    \"input\":{\n",
    "        \"cards\":[1,2,3,4,4,4,4,5,6,],\n",
    "        \"query\":4\n",
    "    },\n",
    "    \"output\":tuple([3,6])\n",
    "})"
   ]
  },
  {
   "cell_type": "code",
   "execution_count": 42,
   "id": "fd65344f",
   "metadata": {},
   "outputs": [],
   "source": [
    "tests.append({\n",
    "    \"input\":{\n",
    "        \"cards\":[1,2,3,4,5,5,5],\n",
    "        \"query\":7\n",
    "    },\n",
    "    \"output\":-1\n",
    "})"
   ]
  },
  {
   "cell_type": "code",
   "execution_count": 43,
   "id": "b3795385",
   "metadata": {},
   "outputs": [],
   "source": [
    "tests.append({\n",
    "    \"input\":{\n",
    "        \"cards\":[2,2,2,2],\n",
    "        \"query\":2\n",
    "    },\n",
    "    \"output\":tuple([0,3])\n",
    "})"
   ]
  },
  {
   "cell_type": "code",
   "execution_count": 44,
   "id": "daa5a169",
   "metadata": {},
   "outputs": [],
   "source": [
    "tests.append({\n",
    "    \"input\":{\n",
    "        \"cards\":[5],\n",
    "        \"query\":5\n",
    "    },\n",
    "    \"output\":tuple([0,0])\n",
    "})"
   ]
  },
  {
   "cell_type": "code",
   "execution_count": 45,
   "id": "05de18f8",
   "metadata": {},
   "outputs": [
    {
     "data": {
      "text/plain": [
       "(-1, -1)"
      ]
     },
     "execution_count": 45,
     "metadata": {},
     "output_type": "execute_result"
    }
   ],
   "source": [
    "locate_start_end([1,2,3,3,3,4], 5)"
   ]
  },
  {
   "cell_type": "code",
   "execution_count": 46,
   "id": "cbaf1a5c",
   "metadata": {},
   "outputs": [],
   "source": [
    "tests[3][\"output\"] = tuple([-1,-1])"
   ]
  },
  {
   "cell_type": "code",
   "execution_count": null,
   "id": "67378601",
   "metadata": {},
   "outputs": [],
   "source": []
  },
  {
   "cell_type": "code",
   "execution_count": null,
   "id": "0fbf9e07",
   "metadata": {},
   "outputs": [],
   "source": [
    "pass_or_not(locate_start_end, tests)"
   ]
  },
  {
   "cell_type": "markdown",
   "id": "6a54460a",
   "metadata": {},
   "source": [
    "# Lesson 2. Common data structure in python"
   ]
  },
  {
   "cell_type": "markdown",
   "id": "5a87e174",
   "metadata": {},
   "source": [
    "## binary search trees, traversals and balancing"
   ]
  },
  {
   "cell_type": "markdown",
   "id": "3a9d2863",
   "metadata": {},
   "source": [
    "## Create a data structure, which can store 100 million records and perform 'insertation', 'seareches', 'updates', and 'list' operations efficiently."
   ]
  },
  {
   "cell_type": "markdown",
   "id": "a8cb8c07",
   "metadata": {},
   "source": [
    "### 認識class! 可以用class來處理"
   ]
  },
  {
   "cell_type": "code",
   "execution_count": 48,
   "id": "121343c7",
   "metadata": {},
   "outputs": [],
   "source": [
    "class User:\n",
    "    def __init__(self, username, name, email):  #創造一個物件時\n",
    "        self.username = username\n",
    "        self.name = name\n",
    "        self.email = email\n",
    "        print(\"user created!\")    "
   ]
  },
  {
   "cell_type": "code",
   "execution_count": 49,
   "id": "9bbebdbd",
   "metadata": {},
   "outputs": [
    {
     "name": "stdout",
     "output_type": "stream",
     "text": [
      "user created!\n"
     ]
    }
   ],
   "source": [
    "user1 = User(\"joanne\", \"Joanne Tsai\",\"annietsai@gmail.com\")"
   ]
  },
  {
   "cell_type": "code",
   "execution_count": 50,
   "id": "49a81d3c",
   "metadata": {},
   "outputs": [
    {
     "data": {
      "text/plain": [
       "<__main__.User at 0x7fc33cd91eb0>"
      ]
     },
     "execution_count": 50,
     "metadata": {},
     "output_type": "execute_result"
    }
   ],
   "source": [
    "user1"
   ]
  },
  {
   "cell_type": "code",
   "execution_count": 51,
   "id": "0b394257",
   "metadata": {},
   "outputs": [],
   "source": [
    "class User:\n",
    "    def __init__(self, username, name, email):  #創造一個物件時\n",
    "        self.username = username\n",
    "        self.name = name\n",
    "        self.email = email\n",
    "        print(\"user created!\")\n",
    "            \n",
    "    def introduce_yourself(self, guest_name):\n",
    "        print(\"hello, {}! I am {}! Contact me at {}.\". format(guest_name, self.name, self.email))\n",
    "        \n",
    "    def __repr__(self):\n",
    "        return \"username: {}, name: {}, email: {}\".format(self.username, self.name, self.email)\n",
    "    \n",
    "    def __str__(self):\n",
    "        return self.__repr__()"
   ]
  },
  {
   "cell_type": "code",
   "execution_count": 52,
   "id": "52c3b0b2",
   "metadata": {},
   "outputs": [
    {
     "name": "stdout",
     "output_type": "stream",
     "text": [
      "user created!\n"
     ]
    }
   ],
   "source": [
    "user1 = User(\"annie\", \"Annie Tsai\", \"annie@gamil.com\")"
   ]
  },
  {
   "cell_type": "code",
   "execution_count": null,
   "id": "8eded10c",
   "metadata": {},
   "outputs": [],
   "source": [
    "user1"
   ]
  },
  {
   "cell_type": "markdown",
   "id": "d9a3ee4a",
   "metadata": {},
   "source": [
    "### express our desired data structure as a class with four methods"
   ]
  },
  {
   "cell_type": "code",
   "execution_count": 53,
   "id": "2d600b6d",
   "metadata": {},
   "outputs": [],
   "source": [
    "class UserDatabase:\n",
    "    def insert(self, user):\n",
    "        pass\n",
    "    \n",
    "    def find(self, username):\n",
    "        pass\n",
    "    \n",
    "    def update(self, user):\n",
    "        pass\n",
    "    \n",
    "    def list_all(self):\n",
    "        pass\n",
    "    "
   ]
  },
  {
   "cell_type": "markdown",
   "id": "cd3d743e",
   "metadata": {},
   "source": [
    "### step2. examples"
   ]
  },
  {
   "cell_type": "code",
   "execution_count": 54,
   "id": "ababab86",
   "metadata": {},
   "outputs": [
    {
     "name": "stdout",
     "output_type": "stream",
     "text": [
      "user created!\n",
      "user created!\n",
      "user created!\n",
      "user created!\n"
     ]
    }
   ],
   "source": [
    "annie = User(\"annie\", \"Annie\", \"annie@gmail.com\")\n",
    "jim = User(\"jim\", \"Jim\", \"jim@gmail.com\")\n",
    "joanne = User(\"joanne\", \"Joanne\", \"joanne@gmail.com\")\n",
    "lova = User(\"lova\", \"Lova\", \"lova@gmail.com\")"
   ]
  },
  {
   "cell_type": "code",
   "execution_count": 55,
   "id": "459e4951",
   "metadata": {},
   "outputs": [],
   "source": [
    "users = [annie, jim, joanne, lova]"
   ]
  },
  {
   "cell_type": "code",
   "execution_count": 56,
   "id": "7b1f9547",
   "metadata": {},
   "outputs": [
    {
     "data": {
      "text/plain": [
       "'joanne@gmail.com'"
      ]
     },
     "execution_count": 56,
     "metadata": {},
     "output_type": "execute_result"
    }
   ],
   "source": [
    "joanne.email"
   ]
  },
  {
   "cell_type": "code",
   "execution_count": 57,
   "id": "ae12b05b",
   "metadata": {},
   "outputs": [
    {
     "name": "stdout",
     "output_type": "stream",
     "text": [
      "username: joanne, name: Joanne, email: joanne@gmail.com\n"
     ]
    }
   ],
   "source": [
    "print(joanne)"
   ]
  },
  {
   "cell_type": "code",
   "execution_count": 58,
   "id": "6ae3b709",
   "metadata": {},
   "outputs": [
    {
     "data": {
      "text/plain": [
       "[username: annie, name: Annie, email: annie@gmail.com,\n",
       " username: jim, name: Jim, email: jim@gmail.com,\n",
       " username: joanne, name: Joanne, email: joanne@gmail.com,\n",
       " username: lova, name: Lova, email: lova@gmail.com]"
      ]
     },
     "execution_count": 58,
     "metadata": {},
     "output_type": "execute_result"
    }
   ],
   "source": [
    "users"
   ]
  },
  {
   "cell_type": "markdown",
   "id": "c7a12717",
   "metadata": {},
   "source": [
    "### step 4. implementation"
   ]
  },
  {
   "cell_type": "code",
   "execution_count": 59,
   "id": "28e7fc29",
   "metadata": {},
   "outputs": [],
   "source": [
    "class UserDatabase:\n",
    "    \n",
    "    def __init__(self):\n",
    "        self.users = []\n",
    "        \n",
    "    def insert(self, user):\n",
    "        i = 0\n",
    "        while i < len(self.users):\n",
    "            if user.username < self.users[i].username:\n",
    "                break\n",
    "            i+=1\n",
    "        self.users.insert(i, user)\n",
    "        \n",
    "    def find(self, username):\n",
    "        for user in self.users:\n",
    "            if user.username == username:\n",
    "                return user\n",
    "        \n",
    "    def update(self, user):\n",
    "        target = self.find(user.username)\n",
    "        target.name, target.email = user.name, user.email\n",
    "        \n",
    "    def list_all(self):\n",
    "        return self.users        "
   ]
  },
  {
   "cell_type": "code",
   "execution_count": 60,
   "id": "3b5f164a",
   "metadata": {},
   "outputs": [],
   "source": [
    "database = UserDatabase()"
   ]
  },
  {
   "cell_type": "code",
   "execution_count": 61,
   "id": "a260a2d0",
   "metadata": {},
   "outputs": [],
   "source": [
    "database.insert(annie)"
   ]
  },
  {
   "cell_type": "code",
   "execution_count": 62,
   "id": "d62b92c9",
   "metadata": {},
   "outputs": [],
   "source": [
    "database.insert(jim)"
   ]
  },
  {
   "cell_type": "code",
   "execution_count": 63,
   "id": "4d8bb924",
   "metadata": {},
   "outputs": [],
   "source": [
    "database.insert(lova)\n",
    "database.insert(joanne)"
   ]
  },
  {
   "cell_type": "code",
   "execution_count": 64,
   "id": "1430d281",
   "metadata": {},
   "outputs": [
    {
     "data": {
      "text/plain": [
       "[username: annie, name: Annie, email: annie@gmail.com,\n",
       " username: jim, name: Jim, email: jim@gmail.com,\n",
       " username: joanne, name: Joanne, email: joanne@gmail.com,\n",
       " username: lova, name: Lova, email: lova@gmail.com]"
      ]
     },
     "execution_count": 64,
     "metadata": {},
     "output_type": "execute_result"
    }
   ],
   "source": [
    "database.users"
   ]
  },
  {
   "cell_type": "code",
   "execution_count": 65,
   "id": "51c6906c",
   "metadata": {},
   "outputs": [
    {
     "data": {
      "text/plain": [
       "username: joanne, name: Joanne, email: joanne@gmail.com"
      ]
     },
     "execution_count": 65,
     "metadata": {},
     "output_type": "execute_result"
    }
   ],
   "source": [
    "person = database.find(\"joanne\")\n",
    "person"
   ]
  },
  {
   "cell_type": "code",
   "execution_count": 66,
   "id": "2aab62ed",
   "metadata": {},
   "outputs": [
    {
     "name": "stdout",
     "output_type": "stream",
     "text": [
      "user created!\n"
     ]
    }
   ],
   "source": [
    "database.update(User(\"annie\", \"AAnnie\", \"annietsai86@gmail.com\"))"
   ]
  },
  {
   "cell_type": "code",
   "execution_count": 67,
   "id": "7592a452",
   "metadata": {},
   "outputs": [
    {
     "data": {
      "text/plain": [
       "username: annie, name: AAnnie, email: annietsai86@gmail.com"
      ]
     },
     "execution_count": 67,
     "metadata": {},
     "output_type": "execute_result"
    }
   ],
   "source": [
    "database.find(\"annie\")"
   ]
  },
  {
   "cell_type": "code",
   "execution_count": 68,
   "id": "41bbf73b",
   "metadata": {},
   "outputs": [
    {
     "data": {
      "text/plain": [
       "[username: annie, name: AAnnie, email: annietsai86@gmail.com,\n",
       " username: jim, name: Jim, email: jim@gmail.com,\n",
       " username: joanne, name: Joanne, email: joanne@gmail.com,\n",
       " username: lova, name: Lova, email: lova@gmail.com]"
      ]
     },
     "execution_count": 68,
     "metadata": {},
     "output_type": "execute_result"
    }
   ],
   "source": [
    "database.list_all()"
   ]
  },
  {
   "cell_type": "code",
   "execution_count": 69,
   "id": "3721991a",
   "metadata": {},
   "outputs": [
    {
     "name": "stdout",
     "output_type": "stream",
     "text": [
      "user created!\n"
     ]
    }
   ],
   "source": [
    "cathy = User(\"cathy\", \"Cathy\", \"cathy@gmaail.com\")"
   ]
  },
  {
   "cell_type": "code",
   "execution_count": 70,
   "id": "6e92f088",
   "metadata": {},
   "outputs": [],
   "source": [
    "database.insert(cathy)"
   ]
  },
  {
   "cell_type": "code",
   "execution_count": 71,
   "id": "b539f5b9",
   "metadata": {},
   "outputs": [
    {
     "data": {
      "text/plain": [
       "[username: annie, name: AAnnie, email: annietsai86@gmail.com,\n",
       " username: cathy, name: Cathy, email: cathy@gmaail.com,\n",
       " username: jim, name: Jim, email: jim@gmail.com,\n",
       " username: joanne, name: Joanne, email: joanne@gmail.com,\n",
       " username: lova, name: Lova, email: lova@gmail.com]"
      ]
     },
     "execution_count": 71,
     "metadata": {},
     "output_type": "execute_result"
    }
   ],
   "source": [
    "database.list_all()"
   ]
  },
  {
   "cell_type": "markdown",
   "id": "671595b2",
   "metadata": {},
   "source": [
    "### 再練習一次 比較笨的data base建構"
   ]
  },
  {
   "cell_type": "code",
   "execution_count": null,
   "id": "09630cde",
   "metadata": {},
   "outputs": [],
   "source": [
    "class Person:\n",
    "    \n",
    "    def __init__(self, username, name, mail):\n",
    "        self.username = username\n",
    "        self.name = name\n",
    "        self.mail = mail\n",
    "        print(\"personal information created!\")\n",
    "        \n",
    "    def __repr__(self):\n",
    "        return \"Username: {}, Name: {}, Mail: {}.\".format(self.username, self.name, self.mail)\n",
    "    \n",
    "    def __str__(self):\n",
    "        return self.__repr__()\n",
    "    \n",
    "    def sayhito(self, guest):\n",
    "        return \"Hi, {}! This is {}.\".format(guest, self.name)"
   ]
  },
  {
   "cell_type": "code",
   "execution_count": null,
   "id": "8d39912f",
   "metadata": {},
   "outputs": [],
   "source": [
    "sheldon = Person(\"sheldon\", \"Sheldon\", \"sheldon@gmail.com\")"
   ]
  },
  {
   "cell_type": "code",
   "execution_count": null,
   "id": "e9a1ea82",
   "metadata": {},
   "outputs": [],
   "source": [
    "penny = Person(\"penny\", \"Penny\", \"penny@cornell.edu\")"
   ]
  },
  {
   "cell_type": "code",
   "execution_count": null,
   "id": "c188d294",
   "metadata": {},
   "outputs": [],
   "source": [
    "leonard = Person(\"leonard\", \"Leonard\", \"leonard@cornell.edu\")"
   ]
  },
  {
   "cell_type": "code",
   "execution_count": null,
   "id": "1e6bda05",
   "metadata": {},
   "outputs": [],
   "source": [
    "leonard.sayhito(\"Joanne\")"
   ]
  },
  {
   "cell_type": "code",
   "execution_count": null,
   "id": "8c91d99f",
   "metadata": {},
   "outputs": [],
   "source": [
    "leonard.mail"
   ]
  },
  {
   "cell_type": "code",
   "execution_count": 72,
   "id": "beeb300b",
   "metadata": {},
   "outputs": [],
   "source": [
    "class PersonDatabase:\n",
    "    \n",
    "    #建立一個PersonDatabase的時候，不需要輸入people資料，但這個PersonDatabase class自帶一people屬性，一開始是空的\n",
    "    def __init__(self):\n",
    "        self.people = []\n",
    "    \n",
    "    \n",
    "    #用這個函數的時候，要填入的是一個物件（帶有三個屬性）\n",
    "    def insert(self, person): \n",
    "        i = 0\n",
    "        while i < len(self.people):\n",
    "            if person.username < self.people[i].username:\n",
    "                break\n",
    "            i+=1\n",
    "        self.people.insert(i, person)\n",
    "    \n",
    "    \n",
    "    #用這個函數的時候，要填入的是一個string代表username\n",
    "    def find(self, username):  \n",
    "        for thing in self.people:\n",
    "            if thing.username == username:\n",
    "                return thing\n",
    "    \n",
    "    \n",
    "    #用這個函數的時候，要填入一個物件（帶有三個屬性）\n",
    "    def update(self, person):  \n",
    "        target = self.find(person.username)\n",
    "        target.name, target.mail = person.name, person.mail\n",
    "    \n",
    "    #用這個函數的時候，不須要填入額外的參數\n",
    "    def listall(self):\n",
    "        return self.people"
   ]
  },
  {
   "cell_type": "code",
   "execution_count": null,
   "id": "f027c985",
   "metadata": {},
   "outputs": [],
   "source": [
    "the_database = PersonDatabase"
   ]
  },
  {
   "cell_type": "code",
   "execution_count": null,
   "id": "96fe8914",
   "metadata": {},
   "outputs": [],
   "source": [
    "the_database"
   ]
  },
  {
   "cell_type": "code",
   "execution_count": null,
   "id": "1e30c6e8",
   "metadata": {},
   "outputs": [],
   "source": [
    "the_database = PersonDatabase()"
   ]
  },
  {
   "cell_type": "code",
   "execution_count": null,
   "id": "0f5b260d",
   "metadata": {},
   "outputs": [],
   "source": [
    "the_database"
   ]
  },
  {
   "cell_type": "markdown",
   "id": "0395db47",
   "metadata": {},
   "source": [
    "以上那兩個不一樣！？ＱＱ 要加（），不然會怪怪的，我不知道為什麼，我就是廢物ＱＱ 管用就行ＱＱ"
   ]
  },
  {
   "cell_type": "code",
   "execution_count": null,
   "id": "f74ef458",
   "metadata": {},
   "outputs": [],
   "source": [
    "the_database.insert(sheldon)"
   ]
  },
  {
   "cell_type": "code",
   "execution_count": null,
   "id": "8a790cf1",
   "metadata": {},
   "outputs": [],
   "source": [
    "the_database.insert(penny)\n",
    "the_database.insert(leonard)"
   ]
  },
  {
   "cell_type": "code",
   "execution_count": null,
   "id": "1061b2ee",
   "metadata": {},
   "outputs": [],
   "source": [
    "the_database.listall()"
   ]
  },
  {
   "cell_type": "code",
   "execution_count": null,
   "id": "4807f040",
   "metadata": {},
   "outputs": [],
   "source": [
    "the_database.find(\"penny\")"
   ]
  },
  {
   "cell_type": "code",
   "execution_count": null,
   "id": "25675feb",
   "metadata": {},
   "outputs": [],
   "source": [
    "# 更新的時候，username不能改，因為我們就是用username去搜這筆資料並更改\n",
    "new_penny = Person(\"penny\", \"New Penny\", \"newpennt@cornell.edu\")"
   ]
  },
  {
   "cell_type": "code",
   "execution_count": null,
   "id": "4e6f90d6",
   "metadata": {},
   "outputs": [],
   "source": [
    "the_database.update(new_penny)"
   ]
  },
  {
   "cell_type": "code",
   "execution_count": null,
   "id": "567c5455",
   "metadata": {},
   "outputs": [],
   "source": [
    "the_database.listall()"
   ]
  },
  {
   "cell_type": "code",
   "execution_count": null,
   "id": "0c18060c",
   "metadata": {},
   "outputs": [],
   "source": [
    "amy = Person(\"amy\", \"Amy\", \"amy@cornell.edu\")"
   ]
  },
  {
   "cell_type": "code",
   "execution_count": null,
   "id": "d2d883a3",
   "metadata": {},
   "outputs": [],
   "source": [
    "the_database.insert(amy)"
   ]
  },
  {
   "cell_type": "code",
   "execution_count": null,
   "id": "7fb2dc84",
   "metadata": {},
   "outputs": [],
   "source": [
    "the_database.listall()"
   ]
  },
  {
   "cell_type": "markdown",
   "id": "9ca46a1e",
   "metadata": {},
   "source": [
    "## Question. Implement a binary tree using python"
   ]
  },
  {
   "cell_type": "code",
   "execution_count": 73,
   "id": "dd56645d",
   "metadata": {},
   "outputs": [],
   "source": [
    "class TreeNode:\n",
    "    \n",
    "    def __init__(self, key):\n",
    "        self.key = key\n",
    "        self.left = None\n",
    "        self.right = None"
   ]
  },
  {
   "cell_type": "code",
   "execution_count": 74,
   "id": "d9727a3d",
   "metadata": {},
   "outputs": [],
   "source": [
    "node0 = TreeNode(3)"
   ]
  },
  {
   "cell_type": "code",
   "execution_count": 75,
   "id": "1c3d7bbf",
   "metadata": {},
   "outputs": [],
   "source": [
    "node1 = TreeNode(4)"
   ]
  },
  {
   "cell_type": "code",
   "execution_count": 76,
   "id": "757c3d78",
   "metadata": {},
   "outputs": [],
   "source": [
    "node2 = TreeNode(5)"
   ]
  },
  {
   "cell_type": "code",
   "execution_count": 77,
   "id": "883e0aa3",
   "metadata": {},
   "outputs": [],
   "source": [
    "# 把root叫tree\n",
    "tree = node0"
   ]
  },
  {
   "cell_type": "code",
   "execution_count": 78,
   "id": "c4a26c39",
   "metadata": {},
   "outputs": [],
   "source": [
    "tree.left = node1\n",
    "tree.right = node2"
   ]
  },
  {
   "cell_type": "markdown",
   "id": "6e3c4191",
   "metadata": {},
   "source": [
    "And we're all done!"
   ]
  },
  {
   "cell_type": "code",
   "execution_count": 79,
   "id": "ae99cdee",
   "metadata": {},
   "outputs": [
    {
     "data": {
      "text/plain": [
       "4"
      ]
     },
     "execution_count": 79,
     "metadata": {},
     "output_type": "execute_result"
    }
   ],
   "source": [
    "tree.left.key"
   ]
  },
  {
   "cell_type": "code",
   "execution_count": 80,
   "id": "4c1f3a38",
   "metadata": {},
   "outputs": [],
   "source": [
    "root = TreeNode(2)\n",
    "node1 = TreeNode(3)\n",
    "root.left = node1\n",
    "node2 = TreeNode(1)\n",
    "node1.left = node2"
   ]
  },
  {
   "cell_type": "markdown",
   "id": "e0b6c8cc",
   "metadata": {},
   "source": [
    "這樣太累了"
   ]
  },
  {
   "cell_type": "markdown",
   "id": "ef9a999f",
   "metadata": {},
   "source": [
    "## Question. Create the following binary tree using the TreeNode class defined above. 去ipad看圖"
   ]
  },
  {
   "cell_type": "code",
   "execution_count": 81,
   "id": "35e13d4f",
   "metadata": {},
   "outputs": [],
   "source": [
    "def parse_tuple(data):\n",
    "    if isinstance(data, tuple) and len(data) == 3:\n",
    "        node = TreeNode(data[1])\n",
    "        node.left = parse_tuple(data[0])\n",
    "        node.right = parse_tuple(data[2])\n",
    "    elif data == None:\n",
    "        node = None\n",
    "    else:\n",
    "        node = TreeNode(data)\n",
    "    return node"
   ]
  },
  {
   "cell_type": "code",
   "execution_count": 82,
   "id": "1f7faccd",
   "metadata": {},
   "outputs": [],
   "source": [
    "my_tuple = ((1,3, None), 2, ((None, 3,4), 5, (6,7,8)))"
   ]
  },
  {
   "cell_type": "code",
   "execution_count": 83,
   "id": "cd5b4573",
   "metadata": {},
   "outputs": [
    {
     "data": {
      "text/plain": [
       "3"
      ]
     },
     "execution_count": 83,
     "metadata": {},
     "output_type": "execute_result"
    }
   ],
   "source": [
    "len(my_tuple)"
   ]
  },
  {
   "cell_type": "code",
   "execution_count": 84,
   "id": "f7b7140a",
   "metadata": {},
   "outputs": [],
   "source": [
    "tree2 = parse_tuple(my_tuple)"
   ]
  },
  {
   "cell_type": "code",
   "execution_count": 85,
   "id": "bb42ba55",
   "metadata": {},
   "outputs": [
    {
     "data": {
      "text/plain": [
       "True"
      ]
     },
     "execution_count": 85,
     "metadata": {},
     "output_type": "execute_result"
    }
   ],
   "source": [
    "isinstance(tree2, TreeNode)"
   ]
  },
  {
   "cell_type": "code",
   "execution_count": 86,
   "id": "2fdea029",
   "metadata": {},
   "outputs": [
    {
     "data": {
      "text/plain": [
       "2"
      ]
     },
     "execution_count": 86,
     "metadata": {},
     "output_type": "execute_result"
    }
   ],
   "source": [
    "tree2.key"
   ]
  },
  {
   "cell_type": "code",
   "execution_count": null,
   "id": "2872fb24",
   "metadata": {},
   "outputs": [],
   "source": []
  },
  {
   "cell_type": "code",
   "execution_count": null,
   "id": "d4dfeaac",
   "metadata": {},
   "outputs": [],
   "source": [
    "tree2.right.right.left #這是一個Treenode物件"
   ]
  },
  {
   "cell_type": "code",
   "execution_count": null,
   "id": "74cc46f1",
   "metadata": {},
   "outputs": [],
   "source": [
    "tree2.left.left.left.key6"
   ]
  },
  {
   "cell_type": "markdown",
   "id": "0476e8a2",
   "metadata": {},
   "source": [
    "## Question. Define a function tree_to_tuple that converts a binary tree into a tuple representing the same tree."
   ]
  },
  {
   "cell_type": "code",
   "execution_count": 87,
   "id": "5a583b56",
   "metadata": {},
   "outputs": [],
   "source": [
    "def tree_to_tuple(tree):\n",
    "    if isinstance(tree, TreeNode):\n",
    "        data = [None, None, None]\n",
    "        data[1] = tree.key\n",
    "        \n",
    "        if tree.left != None:\n",
    "            data[0] = tree_to_tuple(tree.left)\n",
    "        if tree.right != None:\n",
    "            data[2] = tree_to_tuple(tree.right)\n",
    "        tuple_data = tuple(data)\n",
    "        \n",
    "        if tree.left ==None and tree.right ==None:\n",
    "            tuple_data = tree.key\n",
    "                        \n",
    "    elif tree is None:\n",
    "        tuple_data = None\n",
    "    \n",
    "    return tuple_data        "
   ]
  },
  {
   "cell_type": "code",
   "execution_count": null,
   "id": "64d51c9a",
   "metadata": {},
   "outputs": [],
   "source": [
    "tree_to_tuple(tree2)"
   ]
  },
  {
   "cell_type": "code",
   "execution_count": null,
   "id": "33532f7b",
   "metadata": {},
   "outputs": [],
   "source": [
    "my_tuple"
   ]
  },
  {
   "cell_type": "code",
   "execution_count": null,
   "id": "2e0eabcd",
   "metadata": {},
   "outputs": [],
   "source": [
    "tuple([4])"
   ]
  },
  {
   "cell_type": "code",
   "execution_count": null,
   "id": "f12bcc9a",
   "metadata": {},
   "outputs": [],
   "source": [
    "another_tuple = (((7,1,None),5,None),7,((None,7,3),1,(None,5,(1,9,3))))"
   ]
  },
  {
   "cell_type": "code",
   "execution_count": null,
   "id": "b9a01667",
   "metadata": {},
   "outputs": [],
   "source": [
    "another_tree = parse_tuple(another_tuple)"
   ]
  },
  {
   "cell_type": "code",
   "execution_count": null,
   "id": "e89f0598",
   "metadata": {},
   "outputs": [],
   "source": [
    "another_tree.key"
   ]
  },
  {
   "cell_type": "code",
   "execution_count": null,
   "id": "9b9ef3d4",
   "metadata": {},
   "outputs": [],
   "source": [
    "another_tree.right.left.right.key"
   ]
  },
  {
   "cell_type": "code",
   "execution_count": null,
   "id": "1d57368d",
   "metadata": {},
   "outputs": [],
   "source": [
    "tree_to_tuple(another_tree)"
   ]
  },
  {
   "cell_type": "code",
   "execution_count": null,
   "id": "946288c6",
   "metadata": {},
   "outputs": [],
   "source": []
  },
  {
   "cell_type": "code",
   "execution_count": 114,
   "id": "4eb804fd",
   "metadata": {},
   "outputs": [],
   "source": [
    "def remove_du(alist):    \n",
    "    return len(np.unique(alist)), [*set(alist)]"
   ]
  },
  {
   "cell_type": "code",
   "execution_count": 115,
   "id": "e56056d5",
   "metadata": {},
   "outputs": [
    {
     "data": {
      "text/plain": [
       "(9, [1, 2, 3, 4, 5, 7, 8, 9, 10])"
      ]
     },
     "execution_count": 115,
     "metadata": {},
     "output_type": "execute_result"
    }
   ],
   "source": [
    "a = [1,2,3,3,3,3,4,4,4,5,7,8,9,10,10]\n",
    "remove_du(a)"
   ]
  },
  {
   "cell_type": "code",
   "execution_count": 116,
   "id": "b2408374",
   "metadata": {},
   "outputs": [
    {
     "data": {
      "text/plain": [
       "{1, 2, 3, 4, 5, 7, 8, 9, 10}"
      ]
     },
     "execution_count": 116,
     "metadata": {},
     "output_type": "execute_result"
    }
   ],
   "source": [
    "set(a)"
   ]
  },
  {
   "cell_type": "code",
   "execution_count": null,
   "id": "41c7fa4d",
   "metadata": {},
   "outputs": [],
   "source": []
  }
 ],
 "metadata": {
  "kernelspec": {
   "display_name": "Python 3 (ipykernel)",
   "language": "python",
   "name": "python3"
  },
  "language_info": {
   "codemirror_mode": {
    "name": "ipython",
    "version": 3
   },
   "file_extension": ".py",
   "mimetype": "text/x-python",
   "name": "python",
   "nbconvert_exporter": "python",
   "pygments_lexer": "ipython3",
   "version": "3.9.0"
  }
 },
 "nbformat": 4,
 "nbformat_minor": 5
}
